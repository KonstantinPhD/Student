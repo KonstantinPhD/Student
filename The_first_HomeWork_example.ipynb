{
  "nbformat": 4,
  "nbformat_minor": 0,
  "metadata": {
    "colab": {
      "name": "The first HomeWork_example.ipynb",
      "provenance": [],
      "collapsed_sections": [],
      "toc_visible": true,
      "authorship_tag": "ABX9TyP2VU+3f4D82tYRaPiXETKf",
      "include_colab_link": true
    },
    "kernelspec": {
      "name": "python3",
      "display_name": "Python 3"
    },
    "language_info": {
      "name": "python"
    }
  },
  "cells": [
    {
      "cell_type": "markdown",
      "metadata": {
        "id": "view-in-github",
        "colab_type": "text"
      },
      "source": [
        "<a href=\"https://colab.research.google.com/github/KonstantinPhD/Student/blob/master/The_first_HomeWork_example.ipynb\" target=\"_parent\"><img src=\"https://colab.research.google.com/assets/colab-badge.svg\" alt=\"Open In Colab\"/></a>"
      ]
    },
    {
      "cell_type": "markdown",
      "source": [
        "###Задание №1.\n",
        "> Допустим, что в ходе испытаний проводили наблюдения за температурой исследуемой среды. Наблюдения в течение 20-ти часов дали следующие результаты:\n",
        "16,14,5,13,8,15,10,8, 91, 71, 3, 13, 18, 15, 110, 18, 19,16,14,5,13,8,15,10,8, 91, 71, 3, 13, 18, 15, 110, 18, 19.\n",
        "> Требуется разработать на языке Python программу для вычисления и построения по этим результатам статистического дискретного ряда распределения частот и относительных частот. \n"
      ],
      "metadata": {
        "id": "HGJT5OfuiBE7"
      }
    },
    {
      "cell_type": "markdown",
      "source": [
        "### Подключим несколько \"стандартных\" библиотек."
      ],
      "metadata": {
        "id": "8Eie4jsTjAqC"
      }
    },
    {
      "cell_type": "code",
      "source": [
        "import pandas as pd;              #Библиотека для работы с данными.\n",
        "import numpy as np;               #Библиотека для работы с математическими функциями.\n",
        "import matplotlib.pyplot as plt;  #Библиотека для работы с графиками, средства визуализации."
      ],
      "metadata": {
        "id": "co16uifUi-lz"
      },
      "execution_count": 85,
      "outputs": []
    },
    {
      "cell_type": "markdown",
      "source": [
        "### Сформируем массив данных, а также выполним ранжирование ряда, т.е. отсортируем значения ряда по возростанию, используя библиотеку pandas.\n",
        ">Напомним, что для обращения к библиотеке и ее функциям используется знак \".\" (точка (dot)). Например, запись вида pd.DataFrane означает, что необходимо обратиться к библиотеке pandas, которую мы обозначили как pd и из этой библиотеки вызвать функцию DataFrame(), которая используется для создания структурированной формы с данными в виде специальной таблицы.  Детали можно прочитать на официальном сайте в разделе документации. https://pandas.pydata.org/ "
      ],
      "metadata": {
        "id": "EbBcaAj6jANb"
      }
    },
    {
      "cell_type": "code",
      "source": [
        "A=[16,14,5,13,8,15,10,8, 1, 1, 3, 13, 18, 15, 11, 18, 19,16,14,5,13,8,15,10,8, 1, 1, 3, 13, 18, 15, 10, 18, 19,1];\n",
        "df=pd.DataFrame({\"Data\":A});# Создадим массив данных в формате DataFrame.\n",
        "print(\"****************************\")\n",
        "print(df.head(3)); #Выведим на печать 3  первых значения.\n",
        "print(\"****************************\")\n",
        "df.head(2) #Можно и так тоже реализовать вывод данных на печать, НО!! тоолько в блокноте!"
      ],
      "metadata": {
        "colab": {
          "base_uri": "https://localhost:8080/",
          "height": 216
        },
        "id": "8RdWnAKWjdlt",
        "outputId": "b1c0a59f-1c32-418c-fce8-675534cd7f0e"
      },
      "execution_count": 120,
      "outputs": [
        {
          "output_type": "stream",
          "name": "stdout",
          "text": [
            "****************************\n",
            "   Data\n",
            "0    16\n",
            "1    14\n",
            "2     5\n",
            "****************************\n"
          ]
        },
        {
          "output_type": "execute_result",
          "data": {
            "text/html": [
              "\n",
              "  <div id=\"df-0ae1744c-3395-4241-8ac7-b1de7472b42f\">\n",
              "    <div class=\"colab-df-container\">\n",
              "      <div>\n",
              "<style scoped>\n",
              "    .dataframe tbody tr th:only-of-type {\n",
              "        vertical-align: middle;\n",
              "    }\n",
              "\n",
              "    .dataframe tbody tr th {\n",
              "        vertical-align: top;\n",
              "    }\n",
              "\n",
              "    .dataframe thead th {\n",
              "        text-align: right;\n",
              "    }\n",
              "</style>\n",
              "<table border=\"1\" class=\"dataframe\">\n",
              "  <thead>\n",
              "    <tr style=\"text-align: right;\">\n",
              "      <th></th>\n",
              "      <th>Data</th>\n",
              "    </tr>\n",
              "  </thead>\n",
              "  <tbody>\n",
              "    <tr>\n",
              "      <th>0</th>\n",
              "      <td>16</td>\n",
              "    </tr>\n",
              "    <tr>\n",
              "      <th>1</th>\n",
              "      <td>14</td>\n",
              "    </tr>\n",
              "  </tbody>\n",
              "</table>\n",
              "</div>\n",
              "      <button class=\"colab-df-convert\" onclick=\"convertToInteractive('df-0ae1744c-3395-4241-8ac7-b1de7472b42f')\"\n",
              "              title=\"Convert this dataframe to an interactive table.\"\n",
              "              style=\"display:none;\">\n",
              "        \n",
              "  <svg xmlns=\"http://www.w3.org/2000/svg\" height=\"24px\"viewBox=\"0 0 24 24\"\n",
              "       width=\"24px\">\n",
              "    <path d=\"M0 0h24v24H0V0z\" fill=\"none\"/>\n",
              "    <path d=\"M18.56 5.44l.94 2.06.94-2.06 2.06-.94-2.06-.94-.94-2.06-.94 2.06-2.06.94zm-11 1L8.5 8.5l.94-2.06 2.06-.94-2.06-.94L8.5 2.5l-.94 2.06-2.06.94zm10 10l.94 2.06.94-2.06 2.06-.94-2.06-.94-.94-2.06-.94 2.06-2.06.94z\"/><path d=\"M17.41 7.96l-1.37-1.37c-.4-.4-.92-.59-1.43-.59-.52 0-1.04.2-1.43.59L10.3 9.45l-7.72 7.72c-.78.78-.78 2.05 0 2.83L4 21.41c.39.39.9.59 1.41.59.51 0 1.02-.2 1.41-.59l7.78-7.78 2.81-2.81c.8-.78.8-2.07 0-2.86zM5.41 20L4 18.59l7.72-7.72 1.47 1.35L5.41 20z\"/>\n",
              "  </svg>\n",
              "      </button>\n",
              "      \n",
              "  <style>\n",
              "    .colab-df-container {\n",
              "      display:flex;\n",
              "      flex-wrap:wrap;\n",
              "      gap: 12px;\n",
              "    }\n",
              "\n",
              "    .colab-df-convert {\n",
              "      background-color: #E8F0FE;\n",
              "      border: none;\n",
              "      border-radius: 50%;\n",
              "      cursor: pointer;\n",
              "      display: none;\n",
              "      fill: #1967D2;\n",
              "      height: 32px;\n",
              "      padding: 0 0 0 0;\n",
              "      width: 32px;\n",
              "    }\n",
              "\n",
              "    .colab-df-convert:hover {\n",
              "      background-color: #E2EBFA;\n",
              "      box-shadow: 0px 1px 2px rgba(60, 64, 67, 0.3), 0px 1px 3px 1px rgba(60, 64, 67, 0.15);\n",
              "      fill: #174EA6;\n",
              "    }\n",
              "\n",
              "    [theme=dark] .colab-df-convert {\n",
              "      background-color: #3B4455;\n",
              "      fill: #D2E3FC;\n",
              "    }\n",
              "\n",
              "    [theme=dark] .colab-df-convert:hover {\n",
              "      background-color: #434B5C;\n",
              "      box-shadow: 0px 1px 3px 1px rgba(0, 0, 0, 0.15);\n",
              "      filter: drop-shadow(0px 1px 2px rgba(0, 0, 0, 0.3));\n",
              "      fill: #FFFFFF;\n",
              "    }\n",
              "  </style>\n",
              "\n",
              "      <script>\n",
              "        const buttonEl =\n",
              "          document.querySelector('#df-0ae1744c-3395-4241-8ac7-b1de7472b42f button.colab-df-convert');\n",
              "        buttonEl.style.display =\n",
              "          google.colab.kernel.accessAllowed ? 'block' : 'none';\n",
              "\n",
              "        async function convertToInteractive(key) {\n",
              "          const element = document.querySelector('#df-0ae1744c-3395-4241-8ac7-b1de7472b42f');\n",
              "          const dataTable =\n",
              "            await google.colab.kernel.invokeFunction('convertToInteractive',\n",
              "                                                     [key], {});\n",
              "          if (!dataTable) return;\n",
              "\n",
              "          const docLinkHtml = 'Like what you see? Visit the ' +\n",
              "            '<a target=\"_blank\" href=https://colab.research.google.com/notebooks/data_table.ipynb>data table notebook</a>'\n",
              "            + ' to learn more about interactive tables.';\n",
              "          element.innerHTML = '';\n",
              "          dataTable['output_type'] = 'display_data';\n",
              "          await google.colab.output.renderOutput(dataTable, element);\n",
              "          const docLink = document.createElement('div');\n",
              "          docLink.innerHTML = docLinkHtml;\n",
              "          element.appendChild(docLink);\n",
              "        }\n",
              "      </script>\n",
              "    </div>\n",
              "  </div>\n",
              "  "
            ],
            "text/plain": [
              "   Data\n",
              "0    16\n",
              "1    14"
            ]
          },
          "metadata": {},
          "execution_count": 120
        }
      ]
    },
    {
      "cell_type": "markdown",
      "source": [
        "### Для решения задачи визуализации данных воспользуемся библитекой matplotlib.pyplot. "
      ],
      "metadata": {
        "id": "8pebsdizzEVC"
      }
    },
    {
      "cell_type": "code",
      "source": [
        "plt.figure(figsize=(10,6));\n",
        "plt.plot(df.Data); #Построим график, отображающий результаты измерений и посмотрим на данные.\n",
        "plt.xlabel(\"Номер измерения, i=1,2,3,...\");\n",
        "plt.ylabel(\"Значение температуры, гр.\");\n",
        "plt.title(\"График, отображающий результаты измерений\");\n",
        "plt.grid(); \n",
        "plt.show();"
      ],
      "metadata": {
        "colab": {
          "base_uri": "https://localhost:8080/",
          "height": 404
        },
        "id": "0ad4Q8rcjkeP",
        "outputId": "96b553a3-bbdc-4175-8e44-5246745c148c"
      },
      "execution_count": 101,
      "outputs": [
        {
          "output_type": "display_data",
          "data": {
            "image/png": "[encoded data removed]",
            "text/plain": [
              "<Figure size 720x432 with 1 Axes>"
            ]
          },
          "metadata": {
            "needs_background": "light"
          }
        }
      ]
    },
    {
      "cell_type": "code",
      "source": [
        "#Отсортируем массив.\n",
        "df=df.sort_values(by=\"Data\");\n",
        "df.head()"
      ],
      "metadata": {
        "colab": {
          "base_uri": "https://localhost:8080/",
          "height": 206
        },
        "id": "g3-8FVF9khUL",
        "outputId": "8f718782-927d-4b18-de59-5ea3abfea03e"
      },
      "execution_count": 102,
      "outputs": [
        {
          "output_type": "execute_result",
          "data": {
            "text/html": [
              "\n",
              "  <div id=\"df-ca890def-07ab-403c-80af-95983f268472\">\n",
              "    <div class=\"colab-df-container\">\n",
              "      <div>\n",
              "<style scoped>\n",
              "    .dataframe tbody tr th:only-of-type {\n",
              "        vertical-align: middle;\n",
              "    }\n",
              "\n",
              "    .dataframe tbody tr th {\n",
              "        vertical-align: top;\n",
              "    }\n",
              "\n",
              "    .dataframe thead th {\n",
              "        text-align: right;\n",
              "    }\n",
              "</style>\n",
              "<table border=\"1\" class=\"dataframe\">\n",
              "  <thead>\n",
              "    <tr style=\"text-align: right;\">\n",
              "      <th></th>\n",
              "      <th>Data</th>\n",
              "    </tr>\n",
              "  </thead>\n",
              "  <tbody>\n",
              "    <tr>\n",
              "      <th>34</th>\n",
              "      <td>1</td>\n",
              "    </tr>\n",
              "    <tr>\n",
              "      <th>25</th>\n",
              "      <td>1</td>\n",
              "    </tr>\n",
              "    <tr>\n",
              "      <th>9</th>\n",
              "      <td>1</td>\n",
              "    </tr>\n",
              "    <tr>\n",
              "      <th>8</th>\n",
              "      <td>1</td>\n",
              "    </tr>\n",
              "    <tr>\n",
              "      <th>26</th>\n",
              "      <td>1</td>\n",
              "    </tr>\n",
              "  </tbody>\n",
              "</table>\n",
              "</div>\n",
              "      <button class=\"colab-df-convert\" onclick=\"convertToInteractive('df-ca890def-07ab-403c-80af-95983f268472')\"\n",
              "              title=\"Convert this dataframe to an interactive table.\"\n",
              "              style=\"display:none;\">\n",
              "        \n",
              "  <svg xmlns=\"http://www.w3.org/2000/svg\" height=\"24px\"viewBox=\"0 0 24 24\"\n",
              "       width=\"24px\">\n",
              "    <path d=\"M0 0h24v24H0V0z\" fill=\"none\"/>\n",
              "    <path d=\"M18.56 5.44l.94 2.06.94-2.06 2.06-.94-2.06-.94-.94-2.06-.94 2.06-2.06.94zm-11 1L8.5 8.5l.94-2.06 2.06-.94-2.06-.94L8.5 2.5l-.94 2.06-2.06.94zm10 10l.94 2.06.94-2.06 2.06-.94-2.06-.94-.94-2.06-.94 2.06-2.06.94z\"/><path d=\"M17.41 7.96l-1.37-1.37c-.4-.4-.92-.59-1.43-.59-.52 0-1.04.2-1.43.59L10.3 9.45l-7.72 7.72c-.78.78-.78 2.05 0 2.83L4 21.41c.39.39.9.59 1.41.59.51 0 1.02-.2 1.41-.59l7.78-7.78 2.81-2.81c.8-.78.8-2.07 0-2.86zM5.41 20L4 18.59l7.72-7.72 1.47 1.35L5.41 20z\"/>\n",
              "  </svg>\n",
              "      </button>\n",
              "      \n",
              "  <style>\n",
              "    .colab-df-container {\n",
              "      display:flex;\n",
              "      flex-wrap:wrap;\n",
              "      gap: 12px;\n",
              "    }\n",
              "\n",
              "    .colab-df-convert {\n",
              "      background-color: #E8F0FE;\n",
              "      border: none;\n",
              "      border-radius: 50%;\n",
              "      cursor: pointer;\n",
              "      display: none;\n",
              "      fill: #1967D2;\n",
              "      height: 32px;\n",
              "      padding: 0 0 0 0;\n",
              "      width: 32px;\n",
              "    }\n",
              "\n",
              "    .colab-df-convert:hover {\n",
              "      background-color: #E2EBFA;\n",
              "      box-shadow: 0px 1px 2px rgba(60, 64, 67, 0.3), 0px 1px 3px 1px rgba(60, 64, 67, 0.15);\n",
              "      fill: #174EA6;\n",
              "    }\n",
              "\n",
              "    [theme=dark] .colab-df-convert {\n",
              "      background-color: #3B4455;\n",
              "      fill: #D2E3FC;\n",
              "    }\n",
              "\n",
              "    [theme=dark] .colab-df-convert:hover {\n",
              "      background-color: #434B5C;\n",
              "      box-shadow: 0px 1px 3px 1px rgba(0, 0, 0, 0.15);\n",
              "      filter: drop-shadow(0px 1px 2px rgba(0, 0, 0, 0.3));\n",
              "      fill: #FFFFFF;\n",
              "    }\n",
              "  </style>\n",
              "\n",
              "      <script>\n",
              "        const buttonEl =\n",
              "          document.querySelector('#df-ca890def-07ab-403c-80af-95983f268472 button.colab-df-convert');\n",
              "        buttonEl.style.display =\n",
              "          google.colab.kernel.accessAllowed ? 'block' : 'none';\n",
              "\n",
              "        async function convertToInteractive(key) {\n",
              "          const element = document.querySelector('#df-ca890def-07ab-403c-80af-95983f268472');\n",
              "          const dataTable =\n",
              "            await google.colab.kernel.invokeFunction('convertToInteractive',\n",
              "                                                     [key], {});\n",
              "          if (!dataTable) return;\n",
              "\n",
              "          const docLinkHtml = 'Like what you see? Visit the ' +\n",
              "            '<a target=\"_blank\" href=https://colab.research.google.com/notebooks/data_table.ipynb>data table notebook</a>'\n",
              "            + ' to learn more about interactive tables.';\n",
              "          element.innerHTML = '';\n",
              "          dataTable['output_type'] = 'display_data';\n",
              "          await google.colab.output.renderOutput(dataTable, element);\n",
              "          const docLink = document.createElement('div');\n",
              "          docLink.innerHTML = docLinkHtml;\n",
              "          element.appendChild(docLink);\n",
              "        }\n",
              "      </script>\n",
              "    </div>\n",
              "  </div>\n",
              "  "
            ],
            "text/plain": [
              "    Data\n",
              "34     1\n",
              "25     1\n",
              "9      1\n",
              "8      1\n",
              "26     1"
            ]
          },
          "metadata": {},
          "execution_count": 102
        }
      ]
    },
    {
      "cell_type": "code",
      "source": [
        ""
      ],
      "metadata": {
        "id": "y8mwPtx-l4Y-"
      },
      "execution_count": 88,
      "outputs": []
    },
    {
      "cell_type": "markdown",
      "source": [
        "### Для построения полигона частот необходимо подсчитать количество повторений каждого уникального измерения, т.е. вычислить частоту появления каждого уникального измерения, например, визуально видно, что количество повторений результата измерений \"3\" равно двум. Для решения указанной задачи применим функцию GroupBy.count() из пакета pandas к нашему дата-фрейму df, которая позволяет сгруппировать данные и вычислить количество элементов в каждой группе."
      ],
      "metadata": {
        "id": "JrKSEJdTmV5e"
      }
    },
    {
      "cell_type": "code",
      "source": [
        "df[\"frequency\"]=0;\n",
        "df2=df.groupby(by=\"Data\").count();\n",
        "t=np.linspace(1,len(df2),len(df2));\n",
        "df2.set_index(t)\n",
        "df2.head(3)"
      ],
      "metadata": {
        "colab": {
          "base_uri": "https://localhost:8080/",
          "height": 175
        },
        "id": "bbpgRro7nCW_",
        "outputId": "957335c0-5612-462d-914b-2405624997a0"
      },
      "execution_count": 103,
      "outputs": [
        {
          "output_type": "execute_result",
          "data": {
            "text/html": [
              "\n",
              "  <div id=\"df-eb986a90-1a89-4ff8-845f-f6e7101e8795\">\n",
              "    <div class=\"colab-df-container\">\n",
              "      <div>\n",
              "<style scoped>\n",
              "    .dataframe tbody tr th:only-of-type {\n",
              "        vertical-align: middle;\n",
              "    }\n",
              "\n",
              "    .dataframe tbody tr th {\n",
              "        vertical-align: top;\n",
              "    }\n",
              "\n",
              "    .dataframe thead th {\n",
              "        text-align: right;\n",
              "    }\n",
              "</style>\n",
              "<table border=\"1\" class=\"dataframe\">\n",
              "  <thead>\n",
              "    <tr style=\"text-align: right;\">\n",
              "      <th></th>\n",
              "      <th>frequency</th>\n",
              "    </tr>\n",
              "    <tr>\n",
              "      <th>Data</th>\n",
              "      <th></th>\n",
              "    </tr>\n",
              "  </thead>\n",
              "  <tbody>\n",
              "    <tr>\n",
              "      <th>1</th>\n",
              "      <td>5</td>\n",
              "    </tr>\n",
              "    <tr>\n",
              "      <th>3</th>\n",
              "      <td>2</td>\n",
              "    </tr>\n",
              "    <tr>\n",
              "      <th>5</th>\n",
              "      <td>2</td>\n",
              "    </tr>\n",
              "  </tbody>\n",
              "</table>\n",
              "</div>\n",
              "      <button class=\"colab-df-convert\" onclick=\"convertToInteractive('df-eb986a90-1a89-4ff8-845f-f6e7101e8795')\"\n",
              "              title=\"Convert this dataframe to an interactive table.\"\n",
              "              style=\"display:none;\">\n",
              "        \n",
              "  <svg xmlns=\"http://www.w3.org/2000/svg\" height=\"24px\"viewBox=\"0 0 24 24\"\n",
              "       width=\"24px\">\n",
              "    <path d=\"M0 0h24v24H0V0z\" fill=\"none\"/>\n",
              "    <path d=\"M18.56 5.44l.94 2.06.94-2.06 2.06-.94-2.06-.94-.94-2.06-.94 2.06-2.06.94zm-11 1L8.5 8.5l.94-2.06 2.06-.94-2.06-.94L8.5 2.5l-.94 2.06-2.06.94zm10 10l.94 2.06.94-2.06 2.06-.94-2.06-.94-.94-2.06-.94 2.06-2.06.94z\"/><path d=\"M17.41 7.96l-1.37-1.37c-.4-.4-.92-.59-1.43-.59-.52 0-1.04.2-1.43.59L10.3 9.45l-7.72 7.72c-.78.78-.78 2.05 0 2.83L4 21.41c.39.39.9.59 1.41.59.51 0 1.02-.2 1.41-.59l7.78-7.78 2.81-2.81c.8-.78.8-2.07 0-2.86zM5.41 20L4 18.59l7.72-7.72 1.47 1.35L5.41 20z\"/>\n",
              "  </svg>\n",
              "      </button>\n",
              "      \n",
              "  <style>\n",
              "    .colab-df-container {\n",
              "      display:flex;\n",
              "      flex-wrap:wrap;\n",
              "      gap: 12px;\n",
              "    }\n",
              "\n",
              "    .colab-df-convert {\n",
              "      background-color: #E8F0FE;\n",
              "      border: none;\n",
              "      border-radius: 50%;\n",
              "      cursor: pointer;\n",
              "      display: none;\n",
              "      fill: #1967D2;\n",
              "      height: 32px;\n",
              "      padding: 0 0 0 0;\n",
              "      width: 32px;\n",
              "    }\n",
              "\n",
              "    .colab-df-convert:hover {\n",
              "      background-color: #E2EBFA;\n",
              "      box-shadow: 0px 1px 2px rgba(60, 64, 67, 0.3), 0px 1px 3px 1px rgba(60, 64, 67, 0.15);\n",
              "      fill: #174EA6;\n",
              "    }\n",
              "\n",
              "    [theme=dark] .colab-df-convert {\n",
              "      background-color: #3B4455;\n",
              "      fill: #D2E3FC;\n",
              "    }\n",
              "\n",
              "    [theme=dark] .colab-df-convert:hover {\n",
              "      background-color: #434B5C;\n",
              "      box-shadow: 0px 1px 3px 1px rgba(0, 0, 0, 0.15);\n",
              "      filter: drop-shadow(0px 1px 2px rgba(0, 0, 0, 0.3));\n",
              "      fill: #FFFFFF;\n",
              "    }\n",
              "  </style>\n",
              "\n",
              "      <script>\n",
              "        const buttonEl =\n",
              "          document.querySelector('#df-eb986a90-1a89-4ff8-845f-f6e7101e8795 button.colab-df-convert');\n",
              "        buttonEl.style.display =\n",
              "          google.colab.kernel.accessAllowed ? 'block' : 'none';\n",
              "\n",
              "        async function convertToInteractive(key) {\n",
              "          const element = document.querySelector('#df-eb986a90-1a89-4ff8-845f-f6e7101e8795');\n",
              "          const dataTable =\n",
              "            await google.colab.kernel.invokeFunction('convertToInteractive',\n",
              "                                                     [key], {});\n",
              "          if (!dataTable) return;\n",
              "\n",
              "          const docLinkHtml = 'Like what you see? Visit the ' +\n",
              "            '<a target=\"_blank\" href=https://colab.research.google.com/notebooks/data_table.ipynb>data table notebook</a>'\n",
              "            + ' to learn more about interactive tables.';\n",
              "          element.innerHTML = '';\n",
              "          dataTable['output_type'] = 'display_data';\n",
              "          await google.colab.output.renderOutput(dataTable, element);\n",
              "          const docLink = document.createElement('div');\n",
              "          docLink.innerHTML = docLinkHtml;\n",
              "          element.appendChild(docLink);\n",
              "        }\n",
              "      </script>\n",
              "    </div>\n",
              "  </div>\n",
              "  "
            ],
            "text/plain": [
              "      frequency\n",
              "Data           \n",
              "1             5\n",
              "3             2\n",
              "5             2"
            ]
          },
          "metadata": {},
          "execution_count": 103
        }
      ]
    },
    {
      "cell_type": "code",
      "source": [
        "plt.figure(figsize=(13,7));\n",
        "plt.bar(df2.index,df2.frequency, color=\"red\",alpha=0.5); #Построим график, отображающий результаты измерений и посмотрим на данные.\n",
        "plt.xlabel(\"Численное значение результата измерений, гр.\");\n",
        "plt.ylabel(\"Частота появления.\");\n",
        "plt.title(\"Полигон частот\");\n",
        "plt.grid(); \n",
        "plt.show();"
      ],
      "metadata": {
        "colab": {
          "base_uri": "https://localhost:8080/",
          "height": 458
        },
        "id": "vL7RGmu9m9mp",
        "outputId": "0d48fa72-1be1-47c6-90de-b2664547e3bf"
      },
      "execution_count": 117,
      "outputs": [
        {
          "output_type": "display_data",
          "data": {
            "image/png": "[encoded data removed]",
            "text/plain": [
              "<Figure size 936x504 with 1 Axes>"
            ]
          },
          "metadata": {
            "needs_background": "light"
          }
        }
      ]
    },
    {
      "cell_type": "markdown",
      "source": [
        "### Построим относительный полигон частот. Для расчета относительных частот воспользуемся следующим вырожением:\n",
        "$\n",
        "$$w_i=\\frac{n_i}{\\sum_{k=1}^{l}n_k}$$\n",
        "$\n",
        "\n",
        "т.е. каждое отдельное значение частоты появления события $n_i$ разделим на сумму всех частот $\\sum_{k=1}^{l}n_k$."
      ],
      "metadata": {
        "id": "Y0RX5Pv8sluy"
      }
    },
    {
      "cell_type": "code",
      "source": [
        "df2[\"relative frequency\"]=df2.frequency/df2.frequency.sum();\n",
        "if df2[\"relative frequency\"].sum() !=1: print(\"We have error\")\n",
        "df2.head()"
      ],
      "metadata": {
        "colab": {
          "base_uri": "https://localhost:8080/",
          "height": 237
        },
        "id": "UVciLIINpQDd",
        "outputId": "f5281254-b9e1-43cf-d4df-254e2e69a01c"
      },
      "execution_count": 118,
      "outputs": [
        {
          "output_type": "execute_result",
          "data": {
            "text/html": [
              "\n",
              "  <div id=\"df-b451f8ef-59f9-45a4-87f3-9a924a040fa5\">\n",
              "    <div class=\"colab-df-container\">\n",
              "      <div>\n",
              "<style scoped>\n",
              "    .dataframe tbody tr th:only-of-type {\n",
              "        vertical-align: middle;\n",
              "    }\n",
              "\n",
              "    .dataframe tbody tr th {\n",
              "        vertical-align: top;\n",
              "    }\n",
              "\n",
              "    .dataframe thead th {\n",
              "        text-align: right;\n",
              "    }\n",
              "</style>\n",
              "<table border=\"1\" class=\"dataframe\">\n",
              "  <thead>\n",
              "    <tr style=\"text-align: right;\">\n",
              "      <th></th>\n",
              "      <th>frequency</th>\n",
              "      <th>relative frequency</th>\n",
              "    </tr>\n",
              "    <tr>\n",
              "      <th>Data</th>\n",
              "      <th></th>\n",
              "      <th></th>\n",
              "    </tr>\n",
              "  </thead>\n",
              "  <tbody>\n",
              "    <tr>\n",
              "      <th>1</th>\n",
              "      <td>5</td>\n",
              "      <td>0.142857</td>\n",
              "    </tr>\n",
              "    <tr>\n",
              "      <th>3</th>\n",
              "      <td>2</td>\n",
              "      <td>0.057143</td>\n",
              "    </tr>\n",
              "    <tr>\n",
              "      <th>5</th>\n",
              "      <td>2</td>\n",
              "      <td>0.057143</td>\n",
              "    </tr>\n",
              "    <tr>\n",
              "      <th>8</th>\n",
              "      <td>4</td>\n",
              "      <td>0.114286</td>\n",
              "    </tr>\n",
              "    <tr>\n",
              "      <th>10</th>\n",
              "      <td>3</td>\n",
              "      <td>0.085714</td>\n",
              "    </tr>\n",
              "  </tbody>\n",
              "</table>\n",
              "</div>\n",
              "      <button class=\"colab-df-convert\" onclick=\"convertToInteractive('df-b451f8ef-59f9-45a4-87f3-9a924a040fa5')\"\n",
              "              title=\"Convert this dataframe to an interactive table.\"\n",
              "              style=\"display:none;\">\n",
              "        \n",
              "  <svg xmlns=\"http://www.w3.org/2000/svg\" height=\"24px\"viewBox=\"0 0 24 24\"\n",
              "       width=\"24px\">\n",
              "    <path d=\"M0 0h24v24H0V0z\" fill=\"none\"/>\n",
              "    <path d=\"M18.56 5.44l.94 2.06.94-2.06 2.06-.94-2.06-.94-.94-2.06-.94 2.06-2.06.94zm-11 1L8.5 8.5l.94-2.06 2.06-.94-2.06-.94L8.5 2.5l-.94 2.06-2.06.94zm10 10l.94 2.06.94-2.06 2.06-.94-2.06-.94-.94-2.06-.94 2.06-2.06.94z\"/><path d=\"M17.41 7.96l-1.37-1.37c-.4-.4-.92-.59-1.43-.59-.52 0-1.04.2-1.43.59L10.3 9.45l-7.72 7.72c-.78.78-.78 2.05 0 2.83L4 21.41c.39.39.9.59 1.41.59.51 0 1.02-.2 1.41-.59l7.78-7.78 2.81-2.81c.8-.78.8-2.07 0-2.86zM5.41 20L4 18.59l7.72-7.72 1.47 1.35L5.41 20z\"/>\n",
              "  </svg>\n",
              "      </button>\n",
              "      \n",
              "  <style>\n",
              "    .colab-df-container {\n",
              "      display:flex;\n",
              "      flex-wrap:wrap;\n",
              "      gap: 12px;\n",
              "    }\n",
              "\n",
              "    .colab-df-convert {\n",
              "      background-color: #E8F0FE;\n",
              "      border: none;\n",
              "      border-radius: 50%;\n",
              "      cursor: pointer;\n",
              "      display: none;\n",
              "      fill: #1967D2;\n",
              "      height: 32px;\n",
              "      padding: 0 0 0 0;\n",
              "      width: 32px;\n",
              "    }\n",
              "\n",
              "    .colab-df-convert:hover {\n",
              "      background-color: #E2EBFA;\n",
              "      box-shadow: 0px 1px 2px rgba(60, 64, 67, 0.3), 0px 1px 3px 1px rgba(60, 64, 67, 0.15);\n",
              "      fill: #174EA6;\n",
              "    }\n",
              "\n",
              "    [theme=dark] .colab-df-convert {\n",
              "      background-color: #3B4455;\n",
              "      fill: #D2E3FC;\n",
              "    }\n",
              "\n",
              "    [theme=dark] .colab-df-convert:hover {\n",
              "      background-color: #434B5C;\n",
              "      box-shadow: 0px 1px 3px 1px rgba(0, 0, 0, 0.15);\n",
              "      filter: drop-shadow(0px 1px 2px rgba(0, 0, 0, 0.3));\n",
              "      fill: #FFFFFF;\n",
              "    }\n",
              "  </style>\n",
              "\n",
              "      <script>\n",
              "        const buttonEl =\n",
              "          document.querySelector('#df-b451f8ef-59f9-45a4-87f3-9a924a040fa5 button.colab-df-convert');\n",
              "        buttonEl.style.display =\n",
              "          google.colab.kernel.accessAllowed ? 'block' : 'none';\n",
              "\n",
              "        async function convertToInteractive(key) {\n",
              "          const element = document.querySelector('#df-b451f8ef-59f9-45a4-87f3-9a924a040fa5');\n",
              "          const dataTable =\n",
              "            await google.colab.kernel.invokeFunction('convertToInteractive',\n",
              "                                                     [key], {});\n",
              "          if (!dataTable) return;\n",
              "\n",
              "          const docLinkHtml = 'Like what you see? Visit the ' +\n",
              "            '<a target=\"_blank\" href=https://colab.research.google.com/notebooks/data_table.ipynb>data table notebook</a>'\n",
              "            + ' to learn more about interactive tables.';\n",
              "          element.innerHTML = '';\n",
              "          dataTable['output_type'] = 'display_data';\n",
              "          await google.colab.output.renderOutput(dataTable, element);\n",
              "          const docLink = document.createElement('div');\n",
              "          docLink.innerHTML = docLinkHtml;\n",
              "          element.appendChild(docLink);\n",
              "        }\n",
              "      </script>\n",
              "    </div>\n",
              "  </div>\n",
              "  "
            ],
            "text/plain": [
              "      frequency  relative frequency\n",
              "Data                               \n",
              "1             5            0.142857\n",
              "3             2            0.057143\n",
              "5             2            0.057143\n",
              "8             4            0.114286\n",
              "10            3            0.085714"
            ]
          },
          "metadata": {},
          "execution_count": 118
        }
      ]
    },
    {
      "cell_type": "code",
      "source": [
        "plt.figure(figsize=(10,6));\n",
        "plt.plot(df2[\"relative frequency\"]); #Построим график, отображающий результаты измерений и посмотрим на данные.\n",
        "plt.xlabel(\"Численное значение результата измерений, гр.\");\n",
        "plt.ylabel(\"Относительная частота появления события.\");\n",
        "plt.title(\"Полигон относительных частот\");\n",
        "plt.grid(); \n",
        "plt.show();"
      ],
      "metadata": {
        "colab": {
          "base_uri": "https://localhost:8080/",
          "height": 404
        },
        "id": "F_88ZS0yrJmQ",
        "outputId": "11ba0178-8e76-4b3f-c2b8-1c35033e5c52"
      },
      "execution_count": 119,
      "outputs": [
        {
          "output_type": "display_data",
          "data": {
            "image/png": "[encoded data removed]",
            "text/plain": [
              "<Figure size 720x432 with 1 Axes>"
            ]
          },
          "metadata": {
            "needs_background": "light"
          }
        }
      ]
    },
    {
      "cell_type": "code",
      "source": [
        ""
      ],
      "metadata": {
        "id": "utfdU7oqvfeZ"
      },
      "execution_count": null,
      "outputs": []
    },
    {
      "cell_type": "markdown",
      "source": [
        "## Контрольные задания\n",
        "1. Проводились наблюдения за температурой исследуемой среды. Наблюдения в течение 20-ти часов дали следующие результаты: \n",
        "6; 4; 5; 3; 8; 5; 10; 8; 9; 7; 3; 3; 8; 5; 10; 8; 9; 7; 3; 5; 10; 11; 5; 10; 11; 6; 7; 3; 8; 5; 10; 8; 9; 7; 3; 5; 10; 11; 9; 12; 10; 3; 8; 5; 10; 8; 9; 7; 3; 5; 10; 11;8.\n",
        "Написать на метаязыке Python программу для вычисления и построения по этим результатам статистического дискретного ряда распределения частот и относительных частот. Построить полигоны частот и относительных частот, используя ППО Python.\n",
        "\n",
        "2. На телефонной станции проводились наблюдения над числом неправильных соединений в минуту. Наблюдения в течение часа дали следующие результаты: \n",
        "3; 1; 3; 1; 4; 2; 2; 4; 0; 3; 0; 2; 2; 0; 2; 3; 8; 5; 10; 8; 9; 7; 3; 5; 10; 11; 1; 4; 3; 3; 3; 8; 5; 10; 8; 9; 7; 3; 8; 5; 10; 8; 9; 7; 3; 5; 10; 11;3; 5; 10; 11;1.\n",
        "Написать на метаязыке Python программу для вычисления и построения по этим результатам статистического дискретного ряда распределения частот и относительных частот. Построить полигоны частот и относительных частот, используя ППО Python.\n",
        "\n",
        "3. На сервере виртуального предприятия проводились наблюдения над числом запросов в единице времени. Наблюдения в течение 20 часов дали следующие результаты: \n",
        "20; 25; 30; 15; 10; 27; 14; 21; 23; 25; 27; 24; 24; 20; 15; 12; 11; 9; 14; ; 15; 10; 27; 14; 21; 23; 25; ; 15; 10; 27; 14; 21; 23; 25; ; 15; 10; 27; 14; 21; 23; 25; 3; 1; 3; 1; 4; 2; 2; 4; 0; 3; 0; 2; 2; 0; 2; 3; 10. \n",
        "Написать на метаязыке Python программу для вычисления и построения по этим результатам статистического дискретного ряда распределения частот и относительных частот. Построить полигоны частот и относительных частот, используя ППО Python.\n",
        "4. На сервере виртуального предприятия проводились наблюдения над числом запросов в единице времени. Наблюдения в течение 20 часов дали следующие результаты: \n",
        "200; 250; 300; 150; 100; 270; 140; 210; 230; 250; 270; 240; 204; 200; 105; 102; 110; 90; 104; ; 105; 100; 207; 104; 201; 203; 205; ; 105; 100; 207; 104; 201; 203; 205; 150; 100; 207; 104; 201; 203; 205; 3; 10; 3; 10; 40; 20; 20; 40; 200; 300; 300; 200; 200; 300; 200; 300; 100. \n",
        "Написать на метаязыке Python программу для вычисления и построения по этим результатам статистического дискретного ряда распределения частот и относительных частот. Построить полигоны частот и относительных частот, используя ППО Python.\n",
        "5. На сервере виртуального предприятия проводились наблюдения над числом запросов в единице времени. Наблюдения в течение 20 часов дали следующие результаты: \n",
        "20; 50; 300; 150; 100; 270; 140; 210; 230; 250; 270; 240; 204; 200; 105; 102; 110; 0; 104; 15; 10; 27; 14; 21; 23; 25; ; 15; 10; 27; 14; 21; 23; 5; 50; 10; 207; 104; 201; 203; 205; 3; 10; 3; 10; 40; 20; 20; 40; 110; 30; 200; 300; 100. \n",
        "Написать на метаязыке Python программу для вычисления и построения по этим результатам статистического дискретного ряда распределения частот и относительных частот. Построить полигоны частот и относительных частот, используя ППО Python.\n",
        "6. Проводились наблюдения за температурой исследуемой среды. Наблюдения в течение 20-ти часов дали следующие результаты: \n",
        "6; 4; 5; 13; 8; 15; 10; 8; 91; 71; 3; 13; 18; 15; 110; 18; 19; 17; 13; 5; 10; 11; 5; 10; 11; 6; 7; 3; 8; 5; 10; 8; 9; 7; 3; 5; 10; 11; 9; 12; 10; 3; 18; 5; 150; 18; 9; 7; 3; 5; 10; 11;58.\n",
        "Написать на метаязыке Python программу для вычисления и построения по этим результатам статистического дискретного ряда распределения частот и относительных частот. Построить полигоны частот и относительных частот, используя ППО Python.\n",
        "7. Проводились наблюдения за температурой исследуемой среды. Наблюдения в течение 20-ти часов дали следующие результаты: \n",
        "16; 14; 5; 13; 8; 15; 10; 8; 91; 71; 3; 13; 18; 15; 110; 18; 19; 17; 13; 5; 10; 11; 5; 10; 115; 65; 75; 35; 85; 55; 150; 85; 95; 75; 35; 55; 150; 151; 95; 12; 10; 3; 18; 5; 150; 18; 9; 7; 3; 5; 10; 11;58.\n",
        "Написать на метаязыке Python программу для вычисления и построения по этим результатам статистического дискретного ряда распределения частот и относительных частот. Построить полигоны частот и относительных частот, используя ППО Python.\n",
        "8. Проводились наблюдения за температурой исследуемой среды. Наблюдения в течение 20-ти часов дали следующие результаты: \n",
        "106; 142; 52; 123; 82; 152; 120; 82; 921; 721; 32; 123; 128; 125; 1120; 128; 129; 127; 123; 52; 120; 121; 52; 120; 115; 65; 752; 325; 825; 525; 1520; 825; 925; 725; 325; 525; 150; 151; 925; 122; 10; 32; 18; 52; 150; 18; 9; 7; 3; 5; 10; 11;58.\n",
        "Написать на метаязыке Python программу для вычисления и построения по этим результатам статистического дискретного ряда распределения частот и относительных частот. Построить полигоны частот и относительных частот, используя ППО Python.\n",
        "9. Проводились наблюдения за температурой исследуемой среды. Наблюдения в течение 20-ти часов дали следующие результаты: \n",
        "16; 42; 52; 23; 82; 12; 12; 82; 21; 21; 32; 12; 12; 125; 20; 12; 12; 127; 12; 52; 12; 21; 52; 12; 15; 65; 72; 35; 25; 25; 15; 25; 25; 25; 25; 25; 50; 151; 25; 12; 10; 32; 18; 52; 15; 18; 9; 7; 3; 5; 10; 11;58.\n",
        "Написать на метаязыке Python программу для вычисления и построения по этим результатам статистического дискретного ряда распределения частот и относительных частот. Построить полигоны частот и относительных частот, используя ППО Python.\n",
        "10. Проводились наблюдения за температурой исследуемой среды. Наблюдения в течение 20-ти часов дали следующие результаты: \n",
        "160; 420; 520; 230; 820; 120; 120; 820; 210; 210; 320; 120; 120; 125; 200; 120; 120; 127; 102; 502; 102; 201; 502; 102; 105; 605; 72; 305; 205; 205; 105; 205; 205; 205; 205; 205; 500; 151; 250; 102; 100; 302; 108; 502; 105; 108; 90; 70; 300; 500; 100; 101;508.\n",
        "Написать на метаязыке Python программу для вычисления и построения по этим результатам статистического дискретного ряда распределения частот и относительных частот. Построить полигоны частот и относительных частот, используя ППО Python.\n"
      ],
      "metadata": {
        "id": "9eVhbvFjynfP"
      }
    },
    {
      "cell_type": "code",
      "source": [
        ""
      ],
      "metadata": {
        "id": "Ps3A31E7yohZ"
      },
      "execution_count": null,
      "outputs": []
    }
  ]
}