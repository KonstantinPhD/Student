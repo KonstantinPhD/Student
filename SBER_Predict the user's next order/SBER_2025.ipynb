{
 "cells": [
  {
   "cell_type": "markdown",
   "id": "2e6d082a",
   "metadata": {},
   "source": []
  },
  {
   "cell_type": "markdown",
   "id": "6d067cc7",
   "metadata": {},
   "source": [
    "#### **Description**\n",
    "Сервисы доставки еды уже давно перестали быть просто курьерами, которые привозят заказ. Индустрия e-grocery стремительно идет к аккумулированию и использованию больших данных, чтобы знать о своих пользователях больше и предоставлять более качественные и персонализированные услуги. Одним из шагов к такой персонализации может быть разработка модели, которая понимает привычки и нужды пользователя, и, к примеру, может угадать, что и когда пользователь захочет заказать в следующий раз.\n",
    "\n",
    "Такая модель, будучи разработанной, может принести значительную ценность для клиента - сэкономить время при сборке корзины, помочь ничего не забыть в заказе, убрать необходимость планировать закупки и следить за заканчивающимися запасами продуктов."
   ]
  },
  {
   "cell_type": "markdown",
   "id": "1652e011",
   "metadata": {},
   "source": []
  },
  {
   "cell_type": "code",
   "execution_count": 1,
   "id": "6da9e372",
   "metadata": {},
   "outputs": [],
   "source": [
    "import pandas as pd\n",
    "from sklearn.model_selection import train_test_split\n",
    "import matplotlib.pyplot as plt;\n",
    "import lightgbm as lgb\n",
    "from itertools import chain\n",
    "from tqdm import tqdm\n",
    "import numpy as np;\n",
    "import time\n",
    "tqdm.pandas()  # Активируем tqdm для pandas\n",
    "from time import gmtime, strftime\n"
   ]
  },
  {
   "cell_type": "code",
   "execution_count": 3,
   "id": "caae5c22",
   "metadata": {},
   "outputs": [],
   "source": [
    "# Загрузка данных\n",
    "train = pd.read_csv('data/train.csv')\n",
    "df_sample = pd.read_csv('data/sample_submission.csv')\n",
    "df_sample=df_sample.drop([\"target\"],axis=1);"
   ]
  },
  {
   "cell_type": "code",
   "execution_count": 117,
   "id": "7b3c3099",
   "metadata": {},
   "outputs": [
    {
     "data": {
      "application/vnd.microsoft.datawrangler.viewer.v0+json": {
       "columns": [
        {
         "name": "index",
         "rawType": "int64",
         "type": "integer"
        },
        {
         "name": "user_id",
         "rawType": "int64",
         "type": "integer"
        },
        {
         "name": "order_completed_at",
         "rawType": "object",
         "type": "string"
        },
        {
         "name": "cart",
         "rawType": "int64",
         "type": "integer"
        }
       ],
       "ref": "52246746-820b-422b-828a-6adc370fd6a2",
       "rows": [
        [
         "0",
         "2",
         "2015-03-22 09:25:46",
         "399"
        ],
        [
         "1",
         "2",
         "2015-03-22 09:25:46",
         "14"
        ],
        [
         "2",
         "2",
         "2015-03-22 09:25:46",
         "198"
        ],
        [
         "3",
         "2",
         "2015-03-22 09:25:46",
         "88"
        ],
        [
         "4",
         "2",
         "2015-03-22 09:25:46",
         "157"
        ]
       ],
       "shape": {
        "columns": 3,
        "rows": 5
       }
      },
      "text/html": [
       "<div>\n",
       "<style scoped>\n",
       "    .dataframe tbody tr th:only-of-type {\n",
       "        vertical-align: middle;\n",
       "    }\n",
       "\n",
       "    .dataframe tbody tr th {\n",
       "        vertical-align: top;\n",
       "    }\n",
       "\n",
       "    .dataframe thead th {\n",
       "        text-align: right;\n",
       "    }\n",
       "</style>\n",
       "<table border=\"1\" class=\"dataframe\">\n",
       "  <thead>\n",
       "    <tr style=\"text-align: right;\">\n",
       "      <th></th>\n",
       "      <th>user_id</th>\n",
       "      <th>order_completed_at</th>\n",
       "      <th>cart</th>\n",
       "    </tr>\n",
       "  </thead>\n",
       "  <tbody>\n",
       "    <tr>\n",
       "      <th>0</th>\n",
       "      <td>2</td>\n",
       "      <td>2015-03-22 09:25:46</td>\n",
       "      <td>399</td>\n",
       "    </tr>\n",
       "    <tr>\n",
       "      <th>1</th>\n",
       "      <td>2</td>\n",
       "      <td>2015-03-22 09:25:46</td>\n",
       "      <td>14</td>\n",
       "    </tr>\n",
       "    <tr>\n",
       "      <th>2</th>\n",
       "      <td>2</td>\n",
       "      <td>2015-03-22 09:25:46</td>\n",
       "      <td>198</td>\n",
       "    </tr>\n",
       "    <tr>\n",
       "      <th>3</th>\n",
       "      <td>2</td>\n",
       "      <td>2015-03-22 09:25:46</td>\n",
       "      <td>88</td>\n",
       "    </tr>\n",
       "    <tr>\n",
       "      <th>4</th>\n",
       "      <td>2</td>\n",
       "      <td>2015-03-22 09:25:46</td>\n",
       "      <td>157</td>\n",
       "    </tr>\n",
       "  </tbody>\n",
       "</table>\n",
       "</div>"
      ],
      "text/plain": [
       "   user_id   order_completed_at  cart\n",
       "0        2  2015-03-22 09:25:46   399\n",
       "1        2  2015-03-22 09:25:46    14\n",
       "2        2  2015-03-22 09:25:46   198\n",
       "3        2  2015-03-22 09:25:46    88\n",
       "4        2  2015-03-22 09:25:46   157"
      ]
     },
     "execution_count": 117,
     "metadata": {},
     "output_type": "execute_result"
    }
   ],
   "source": [
    "train.head(5)"
   ]
  },
  {
   "cell_type": "code",
   "execution_count": 118,
   "id": "4b5b88bf",
   "metadata": {},
   "outputs": [
    {
     "data": {
      "application/vnd.microsoft.datawrangler.viewer.v0+json": {
       "columns": [
        {
         "name": "index",
         "rawType": "object",
         "type": "string"
        },
        {
         "name": "user_id",
         "rawType": "float64",
         "type": "float"
        },
        {
         "name": "cart",
         "rawType": "float64",
         "type": "float"
        }
       ],
       "ref": "52199cfa-6c6d-4a0e-a80f-6f49b689d169",
       "rows": [
        [
         "count",
         "3123064.0",
         "3123064.0"
        ],
        [
         "mean",
         "7253.372958415197",
         "227.3234877671415"
        ],
        [
         "std",
         "5337.837768394717",
         "211.28674402329082"
        ],
        [
         "min",
         "0.0",
         "0.0"
        ],
        [
         "25%",
         "2884.0",
         "42.0"
        ],
        [
         "50%",
         "6055.0",
         "146.0"
        ],
        [
         "75%",
         "11172.0",
         "399.0"
        ],
        [
         "max",
         "19999.0",
         "880.0"
        ]
       ],
       "shape": {
        "columns": 2,
        "rows": 8
       }
      },
      "text/html": [
       "<div>\n",
       "<style scoped>\n",
       "    .dataframe tbody tr th:only-of-type {\n",
       "        vertical-align: middle;\n",
       "    }\n",
       "\n",
       "    .dataframe tbody tr th {\n",
       "        vertical-align: top;\n",
       "    }\n",
       "\n",
       "    .dataframe thead th {\n",
       "        text-align: right;\n",
       "    }\n",
       "</style>\n",
       "<table border=\"1\" class=\"dataframe\">\n",
       "  <thead>\n",
       "    <tr style=\"text-align: right;\">\n",
       "      <th></th>\n",
       "      <th>user_id</th>\n",
       "      <th>cart</th>\n",
       "    </tr>\n",
       "  </thead>\n",
       "  <tbody>\n",
       "    <tr>\n",
       "      <th>count</th>\n",
       "      <td>3.123064e+06</td>\n",
       "      <td>3.123064e+06</td>\n",
       "    </tr>\n",
       "    <tr>\n",
       "      <th>mean</th>\n",
       "      <td>7.253373e+03</td>\n",
       "      <td>2.273235e+02</td>\n",
       "    </tr>\n",
       "    <tr>\n",
       "      <th>std</th>\n",
       "      <td>5.337838e+03</td>\n",
       "      <td>2.112867e+02</td>\n",
       "    </tr>\n",
       "    <tr>\n",
       "      <th>min</th>\n",
       "      <td>0.000000e+00</td>\n",
       "      <td>0.000000e+00</td>\n",
       "    </tr>\n",
       "    <tr>\n",
       "      <th>25%</th>\n",
       "      <td>2.884000e+03</td>\n",
       "      <td>4.200000e+01</td>\n",
       "    </tr>\n",
       "    <tr>\n",
       "      <th>50%</th>\n",
       "      <td>6.055000e+03</td>\n",
       "      <td>1.460000e+02</td>\n",
       "    </tr>\n",
       "    <tr>\n",
       "      <th>75%</th>\n",
       "      <td>1.117200e+04</td>\n",
       "      <td>3.990000e+02</td>\n",
       "    </tr>\n",
       "    <tr>\n",
       "      <th>max</th>\n",
       "      <td>1.999900e+04</td>\n",
       "      <td>8.800000e+02</td>\n",
       "    </tr>\n",
       "  </tbody>\n",
       "</table>\n",
       "</div>"
      ],
      "text/plain": [
       "            user_id          cart\n",
       "count  3.123064e+06  3.123064e+06\n",
       "mean   7.253373e+03  2.273235e+02\n",
       "std    5.337838e+03  2.112867e+02\n",
       "min    0.000000e+00  0.000000e+00\n",
       "25%    2.884000e+03  4.200000e+01\n",
       "50%    6.055000e+03  1.460000e+02\n",
       "75%    1.117200e+04  3.990000e+02\n",
       "max    1.999900e+04  8.800000e+02"
      ]
     },
     "execution_count": 118,
     "metadata": {},
     "output_type": "execute_result"
    }
   ],
   "source": [
    "train.describe()"
   ]
  },
  {
   "cell_type": "code",
   "execution_count": 119,
   "id": "cb3945b2",
   "metadata": {},
   "outputs": [
    {
     "data": {
      "application/vnd.microsoft.datawrangler.viewer.v0+json": {
       "columns": [
        {
         "name": "index",
         "rawType": "int64",
         "type": "integer"
        },
        {
         "name": "user_id",
         "rawType": "object",
         "type": "string"
        },
        {
         "name": "cart",
         "rawType": "object",
         "type": "string"
        }
       ],
       "ref": "e5b66121-96db-41f6-bdb7-5242a8979207",
       "rows": [
        [
         "0",
         "0",
         "133"
        ],
        [
         "1",
         "0",
         "5"
        ],
        [
         "2",
         "0",
         "10"
        ]
       ],
       "shape": {
        "columns": 2,
        "rows": 3
       }
      },
      "text/html": [
       "<div>\n",
       "<style scoped>\n",
       "    .dataframe tbody tr th:only-of-type {\n",
       "        vertical-align: middle;\n",
       "    }\n",
       "\n",
       "    .dataframe tbody tr th {\n",
       "        vertical-align: top;\n",
       "    }\n",
       "\n",
       "    .dataframe thead th {\n",
       "        text-align: right;\n",
       "    }\n",
       "</style>\n",
       "<table border=\"1\" class=\"dataframe\">\n",
       "  <thead>\n",
       "    <tr style=\"text-align: right;\">\n",
       "      <th></th>\n",
       "      <th>user_id</th>\n",
       "      <th>cart</th>\n",
       "    </tr>\n",
       "  </thead>\n",
       "  <tbody>\n",
       "    <tr>\n",
       "      <th>0</th>\n",
       "      <td>0</td>\n",
       "      <td>133</td>\n",
       "    </tr>\n",
       "    <tr>\n",
       "      <th>1</th>\n",
       "      <td>0</td>\n",
       "      <td>5</td>\n",
       "    </tr>\n",
       "    <tr>\n",
       "      <th>2</th>\n",
       "      <td>0</td>\n",
       "      <td>10</td>\n",
       "    </tr>\n",
       "  </tbody>\n",
       "</table>\n",
       "</div>"
      ],
      "text/plain": [
       "  user_id cart\n",
       "0       0  133\n",
       "1       0    5\n",
       "2       0   10"
      ]
     },
     "execution_count": 119,
     "metadata": {},
     "output_type": "execute_result"
    }
   ],
   "source": [
    "# Отделим user_id от cart в sample, что бы было удобнее анализировать количество пользователей и количество категорий товаров.\n",
    "\n",
    "#Оптмизируем операцию.\n",
    "# Используем векторные операции pandas (str.split)\n",
    "#это значительно ускоряет процесс за счет оптимизаторов pandas\n",
    "#Избегаем медленных операций append в списки\n",
    "#Избегаем многократного вызова split() для одних и тех же данных\n",
    "#Сразу получаем numpy arrays через .values\n",
    "\n",
    "split_data = df_sample['id'].str.split(';', expand=True) \n",
    "user_id = split_data[0].values\n",
    "cart = split_data[1].values\n",
    "\n",
    "# Создаем DataFrame\n",
    "sample = pd.DataFrame({\n",
    "    \"user_id\": user_id,\n",
    "    \"cart\": cart\n",
    "})\n",
    "\n",
    "sample.head(3)"
   ]
  },
  {
   "cell_type": "code",
   "execution_count": 120,
   "id": "09b939fd",
   "metadata": {},
   "outputs": [
    {
     "data": {
      "application/vnd.microsoft.datawrangler.viewer.v0+json": {
       "columns": [
        {
         "name": "index",
         "rawType": "object",
         "type": "string"
        },
        {
         "name": "user_id",
         "rawType": "object",
         "type": "unknown"
        },
        {
         "name": "cart",
         "rawType": "object",
         "type": "unknown"
        }
       ],
       "ref": "0d17ff98-7410-4da5-ab81-704a13ff6b52",
       "rows": [
        [
         "count",
         "790449",
         "790449"
        ],
        [
         "unique",
         "13036",
         "858"
        ],
        [
         "top",
         "380",
         "57"
        ],
        [
         "freq",
         "250",
         "11336"
        ]
       ],
       "shape": {
        "columns": 2,
        "rows": 4
       }
      },
      "text/html": [
       "<div>\n",
       "<style scoped>\n",
       "    .dataframe tbody tr th:only-of-type {\n",
       "        vertical-align: middle;\n",
       "    }\n",
       "\n",
       "    .dataframe tbody tr th {\n",
       "        vertical-align: top;\n",
       "    }\n",
       "\n",
       "    .dataframe thead th {\n",
       "        text-align: right;\n",
       "    }\n",
       "</style>\n",
       "<table border=\"1\" class=\"dataframe\">\n",
       "  <thead>\n",
       "    <tr style=\"text-align: right;\">\n",
       "      <th></th>\n",
       "      <th>user_id</th>\n",
       "      <th>cart</th>\n",
       "    </tr>\n",
       "  </thead>\n",
       "  <tbody>\n",
       "    <tr>\n",
       "      <th>count</th>\n",
       "      <td>790449</td>\n",
       "      <td>790449</td>\n",
       "    </tr>\n",
       "    <tr>\n",
       "      <th>unique</th>\n",
       "      <td>13036</td>\n",
       "      <td>858</td>\n",
       "    </tr>\n",
       "    <tr>\n",
       "      <th>top</th>\n",
       "      <td>380</td>\n",
       "      <td>57</td>\n",
       "    </tr>\n",
       "    <tr>\n",
       "      <th>freq</th>\n",
       "      <td>250</td>\n",
       "      <td>11336</td>\n",
       "    </tr>\n",
       "  </tbody>\n",
       "</table>\n",
       "</div>"
      ],
      "text/plain": [
       "       user_id    cart\n",
       "count   790449  790449\n",
       "unique   13036     858\n",
       "top        380      57\n",
       "freq       250   11336"
      ]
     },
     "execution_count": 120,
     "metadata": {},
     "output_type": "execute_result"
    }
   ],
   "source": [
    "sample.describe()"
   ]
  },
  {
   "cell_type": "code",
   "execution_count": 121,
   "id": "992f2142",
   "metadata": {},
   "outputs": [],
   "source": [
    "df_new = train;"
   ]
  },
  {
   "cell_type": "code",
   "execution_count": 122,
   "id": "0436dd1e",
   "metadata": {},
   "outputs": [
    {
     "data": {
      "application/vnd.microsoft.datawrangler.viewer.v0+json": {
       "columns": [
        {
         "name": "index",
         "rawType": "int64",
         "type": "integer"
        },
        {
         "name": "user_id",
         "rawType": "int64",
         "type": "integer"
        },
        {
         "name": "order_completed_at",
         "rawType": "datetime64[ns]",
         "type": "datetime"
        },
        {
         "name": "cart",
         "rawType": "int64",
         "type": "integer"
        }
       ],
       "ref": "ada99105-87ba-427c-92aa-49066c1af7c6",
       "rows": [
        [
         "0",
         "2",
         "2015-03-22 09:25:46",
         "399"
        ],
        [
         "1",
         "2",
         "2015-03-22 09:25:46",
         "14"
        ],
        [
         "2",
         "2",
         "2015-03-22 09:25:46",
         "198"
        ]
       ],
       "shape": {
        "columns": 3,
        "rows": 3
       }
      },
      "text/html": [
       "<div>\n",
       "<style scoped>\n",
       "    .dataframe tbody tr th:only-of-type {\n",
       "        vertical-align: middle;\n",
       "    }\n",
       "\n",
       "    .dataframe tbody tr th {\n",
       "        vertical-align: top;\n",
       "    }\n",
       "\n",
       "    .dataframe thead th {\n",
       "        text-align: right;\n",
       "    }\n",
       "</style>\n",
       "<table border=\"1\" class=\"dataframe\">\n",
       "  <thead>\n",
       "    <tr style=\"text-align: right;\">\n",
       "      <th></th>\n",
       "      <th>user_id</th>\n",
       "      <th>order_completed_at</th>\n",
       "      <th>cart</th>\n",
       "    </tr>\n",
       "  </thead>\n",
       "  <tbody>\n",
       "    <tr>\n",
       "      <th>0</th>\n",
       "      <td>2</td>\n",
       "      <td>2015-03-22 09:25:46</td>\n",
       "      <td>399</td>\n",
       "    </tr>\n",
       "    <tr>\n",
       "      <th>1</th>\n",
       "      <td>2</td>\n",
       "      <td>2015-03-22 09:25:46</td>\n",
       "      <td>14</td>\n",
       "    </tr>\n",
       "    <tr>\n",
       "      <th>2</th>\n",
       "      <td>2</td>\n",
       "      <td>2015-03-22 09:25:46</td>\n",
       "      <td>198</td>\n",
       "    </tr>\n",
       "  </tbody>\n",
       "</table>\n",
       "</div>"
      ],
      "text/plain": [
       "   user_id  order_completed_at  cart\n",
       "0        2 2015-03-22 09:25:46   399\n",
       "1        2 2015-03-22 09:25:46    14\n",
       "2        2 2015-03-22 09:25:46   198"
      ]
     },
     "execution_count": 122,
     "metadata": {},
     "output_type": "execute_result"
    }
   ],
   "source": [
    "# Преобразуем колонку с датами в правильный формат\n",
    "df_new['order_completed_at'] = pd.to_datetime(train['order_completed_at'])\n",
    "df_new.head(3)"
   ]
  },
  {
   "cell_type": "code",
   "execution_count": 123,
   "id": "b1e23e82",
   "metadata": {},
   "outputs": [
    {
     "data": {
      "application/vnd.microsoft.datawrangler.viewer.v0+json": {
       "columns": [
        {
         "name": "index",
         "rawType": "object",
         "type": "string"
        },
        {
         "name": "user_id",
         "rawType": "float64",
         "type": "float"
        },
        {
         "name": "order_completed_at",
         "rawType": "object",
         "type": "unknown"
        },
        {
         "name": "cart",
         "rawType": "float64",
         "type": "float"
        }
       ],
       "ref": "55a5c571-fa68-4a40-8023-385473e3178b",
       "rows": [
        [
         "count",
         "3123064.0",
         "3123064",
         "3123064.0"
        ],
        [
         "mean",
         "7253.372958415197",
         "2020-04-09 01:17:00.182836992",
         "227.3234877671415"
        ],
        [
         "min",
         "0.0",
         "2015-03-22 09:25:46",
         "0.0"
        ],
        [
         "25%",
         "2884.0",
         "2020-02-03 06:03:43",
         "42.0"
        ],
        [
         "50%",
         "6055.0",
         "2020-05-19 06:35:20",
         "146.0"
        ],
        [
         "75%",
         "11172.0",
         "2020-07-14 04:50:22",
         "399.0"
        ],
        [
         "max",
         "19999.0",
         "2020-09-03 23:45:45",
         "880.0"
        ],
        [
         "std",
         "5337.837768394717",
         null,
         "211.28674402329082"
        ]
       ],
       "shape": {
        "columns": 3,
        "rows": 8
       }
      },
      "text/html": [
       "<div>\n",
       "<style scoped>\n",
       "    .dataframe tbody tr th:only-of-type {\n",
       "        vertical-align: middle;\n",
       "    }\n",
       "\n",
       "    .dataframe tbody tr th {\n",
       "        vertical-align: top;\n",
       "    }\n",
       "\n",
       "    .dataframe thead th {\n",
       "        text-align: right;\n",
       "    }\n",
       "</style>\n",
       "<table border=\"1\" class=\"dataframe\">\n",
       "  <thead>\n",
       "    <tr style=\"text-align: right;\">\n",
       "      <th></th>\n",
       "      <th>user_id</th>\n",
       "      <th>order_completed_at</th>\n",
       "      <th>cart</th>\n",
       "    </tr>\n",
       "  </thead>\n",
       "  <tbody>\n",
       "    <tr>\n",
       "      <th>count</th>\n",
       "      <td>3.123064e+06</td>\n",
       "      <td>3123064</td>\n",
       "      <td>3.123064e+06</td>\n",
       "    </tr>\n",
       "    <tr>\n",
       "      <th>mean</th>\n",
       "      <td>7.253373e+03</td>\n",
       "      <td>2020-04-09 01:17:00.182836992</td>\n",
       "      <td>2.273235e+02</td>\n",
       "    </tr>\n",
       "    <tr>\n",
       "      <th>min</th>\n",
       "      <td>0.000000e+00</td>\n",
       "      <td>2015-03-22 09:25:46</td>\n",
       "      <td>0.000000e+00</td>\n",
       "    </tr>\n",
       "    <tr>\n",
       "      <th>25%</th>\n",
       "      <td>2.884000e+03</td>\n",
       "      <td>2020-02-03 06:03:43</td>\n",
       "      <td>4.200000e+01</td>\n",
       "    </tr>\n",
       "    <tr>\n",
       "      <th>50%</th>\n",
       "      <td>6.055000e+03</td>\n",
       "      <td>2020-05-19 06:35:20</td>\n",
       "      <td>1.460000e+02</td>\n",
       "    </tr>\n",
       "    <tr>\n",
       "      <th>75%</th>\n",
       "      <td>1.117200e+04</td>\n",
       "      <td>2020-07-14 04:50:22</td>\n",
       "      <td>3.990000e+02</td>\n",
       "    </tr>\n",
       "    <tr>\n",
       "      <th>max</th>\n",
       "      <td>1.999900e+04</td>\n",
       "      <td>2020-09-03 23:45:45</td>\n",
       "      <td>8.800000e+02</td>\n",
       "    </tr>\n",
       "    <tr>\n",
       "      <th>std</th>\n",
       "      <td>5.337838e+03</td>\n",
       "      <td>NaN</td>\n",
       "      <td>2.112867e+02</td>\n",
       "    </tr>\n",
       "  </tbody>\n",
       "</table>\n",
       "</div>"
      ],
      "text/plain": [
       "            user_id             order_completed_at          cart\n",
       "count  3.123064e+06                        3123064  3.123064e+06\n",
       "mean   7.253373e+03  2020-04-09 01:17:00.182836992  2.273235e+02\n",
       "min    0.000000e+00            2015-03-22 09:25:46  0.000000e+00\n",
       "25%    2.884000e+03            2020-02-03 06:03:43  4.200000e+01\n",
       "50%    6.055000e+03            2020-05-19 06:35:20  1.460000e+02\n",
       "75%    1.117200e+04            2020-07-14 04:50:22  3.990000e+02\n",
       "max    1.999900e+04            2020-09-03 23:45:45  8.800000e+02\n",
       "std    5.337838e+03                            NaN  2.112867e+02"
      ]
     },
     "execution_count": 123,
     "metadata": {},
     "output_type": "execute_result"
    }
   ],
   "source": [
    "df_new.describe()"
   ]
  },
  {
   "cell_type": "code",
   "execution_count": 124,
   "id": "5dcbc207",
   "metadata": {},
   "outputs": [],
   "source": [
    "#Добавим фичу, среднее количество дней между покупками.\n",
    "user_features = df_new.groupby('user_id').agg(total_orders=('order_completed_at', 'count'),            # Общее число заказов\n",
    "    avg_days_between_orders=('order_completed_at', lambda x: x.diff().mean().days)  # Средний интервал мужде покупками\n",
    ").reset_index()"
   ]
  },
  {
   "cell_type": "code",
   "execution_count": 125,
   "id": "a31be8e1",
   "metadata": {},
   "outputs": [
    {
     "data": {
      "application/vnd.microsoft.datawrangler.viewer.v0+json": {
       "columns": [
        {
         "name": "index",
         "rawType": "int64",
         "type": "integer"
        },
        {
         "name": "user_id",
         "rawType": "int64",
         "type": "integer"
        },
        {
         "name": "total_orders",
         "rawType": "int64",
         "type": "integer"
        },
        {
         "name": "avg_days_between_orders",
         "rawType": "int64",
         "type": "integer"
        }
       ],
       "ref": "7a53a4e7-c22d-4551-aca7-431e809d9c10",
       "rows": [
        [
         "0",
         "0",
         "44",
         "1"
        ],
        [
         "1",
         "1",
         "37",
         "12"
        ],
        [
         "2",
         "2",
         "172",
         "11"
        ]
       ],
       "shape": {
        "columns": 3,
        "rows": 3
       }
      },
      "text/html": [
       "<div>\n",
       "<style scoped>\n",
       "    .dataframe tbody tr th:only-of-type {\n",
       "        vertical-align: middle;\n",
       "    }\n",
       "\n",
       "    .dataframe tbody tr th {\n",
       "        vertical-align: top;\n",
       "    }\n",
       "\n",
       "    .dataframe thead th {\n",
       "        text-align: right;\n",
       "    }\n",
       "</style>\n",
       "<table border=\"1\" class=\"dataframe\">\n",
       "  <thead>\n",
       "    <tr style=\"text-align: right;\">\n",
       "      <th></th>\n",
       "      <th>user_id</th>\n",
       "      <th>total_orders</th>\n",
       "      <th>avg_days_between_orders</th>\n",
       "    </tr>\n",
       "  </thead>\n",
       "  <tbody>\n",
       "    <tr>\n",
       "      <th>0</th>\n",
       "      <td>0</td>\n",
       "      <td>44</td>\n",
       "      <td>1</td>\n",
       "    </tr>\n",
       "    <tr>\n",
       "      <th>1</th>\n",
       "      <td>1</td>\n",
       "      <td>37</td>\n",
       "      <td>12</td>\n",
       "    </tr>\n",
       "    <tr>\n",
       "      <th>2</th>\n",
       "      <td>2</td>\n",
       "      <td>172</td>\n",
       "      <td>11</td>\n",
       "    </tr>\n",
       "  </tbody>\n",
       "</table>\n",
       "</div>"
      ],
      "text/plain": [
       "   user_id  total_orders  avg_days_between_orders\n",
       "0        0            44                        1\n",
       "1        1            37                       12\n",
       "2        2           172                       11"
      ]
     },
     "execution_count": 125,
     "metadata": {},
     "output_type": "execute_result"
    }
   ],
   "source": [
    "user_features.head(3)"
   ]
  },
  {
   "cell_type": "code",
   "execution_count": 126,
   "id": "3606fcbd",
   "metadata": {},
   "outputs": [],
   "source": [
    "# Оценим популярность товара, т.е. частоту его появления! \n",
    "# Список всех категорий в каждом заказе\n",
    "# Если итерируемый объект, то all_categories=list(chain.from_iterable(train['cart'])), иначе:\n",
    "all_categories = df_new['cart'].tolist();\n",
    "# Очениваем частоту появления \n",
    "category_features = pd.Series(all_categories).value_counts().reset_index()\n",
    "#Добавим названия\n",
    "category_features.columns = ['cart', 'cart_popular']  # Общая популярность"
   ]
  },
  {
   "cell_type": "code",
   "execution_count": 127,
   "id": "7bda3274",
   "metadata": {},
   "outputs": [
    {
     "data": {
      "application/vnd.microsoft.datawrangler.viewer.v0+json": {
       "columns": [
        {
         "name": "index",
         "rawType": "int64",
         "type": "integer"
        },
        {
         "name": "cart",
         "rawType": "int64",
         "type": "integer"
        },
        {
         "name": "cart_popular",
         "rawType": "int64",
         "type": "integer"
        }
       ],
       "ref": "f4baed4b-7654-4817-9c81-c3ac34dfe6b1",
       "rows": [
        [
         "0",
         "57",
         "108877"
        ],
        [
         "1",
         "14",
         "93957"
        ],
        [
         "2",
         "61",
         "91543"
        ]
       ],
       "shape": {
        "columns": 2,
        "rows": 3
       }
      },
      "text/html": [
       "<div>\n",
       "<style scoped>\n",
       "    .dataframe tbody tr th:only-of-type {\n",
       "        vertical-align: middle;\n",
       "    }\n",
       "\n",
       "    .dataframe tbody tr th {\n",
       "        vertical-align: top;\n",
       "    }\n",
       "\n",
       "    .dataframe thead th {\n",
       "        text-align: right;\n",
       "    }\n",
       "</style>\n",
       "<table border=\"1\" class=\"dataframe\">\n",
       "  <thead>\n",
       "    <tr style=\"text-align: right;\">\n",
       "      <th></th>\n",
       "      <th>cart</th>\n",
       "      <th>cart_popular</th>\n",
       "    </tr>\n",
       "  </thead>\n",
       "  <tbody>\n",
       "    <tr>\n",
       "      <th>0</th>\n",
       "      <td>57</td>\n",
       "      <td>108877</td>\n",
       "    </tr>\n",
       "    <tr>\n",
       "      <th>1</th>\n",
       "      <td>14</td>\n",
       "      <td>93957</td>\n",
       "    </tr>\n",
       "    <tr>\n",
       "      <th>2</th>\n",
       "      <td>61</td>\n",
       "      <td>91543</td>\n",
       "    </tr>\n",
       "  </tbody>\n",
       "</table>\n",
       "</div>"
      ],
      "text/plain": [
       "   cart  cart_popular\n",
       "0    57        108877\n",
       "1    14         93957\n",
       "2    61         91543"
      ]
     },
     "execution_count": 127,
     "metadata": {},
     "output_type": "execute_result"
    }
   ],
   "source": [
    "category_features.head(3)"
   ]
  },
  {
   "cell_type": "code",
   "execution_count": 128,
   "id": "b4c79981",
   "metadata": {},
   "outputs": [
    {
     "data": {
      "application/vnd.microsoft.datawrangler.viewer.v0+json": {
       "columns": [
        {
         "name": "index",
         "rawType": "object",
         "type": "string"
        },
        {
         "name": "cart",
         "rawType": "float64",
         "type": "float"
        },
        {
         "name": "cart_popular",
         "rawType": "float64",
         "type": "float"
        }
       ],
       "ref": "e8f6fad2-44f1-45f7-b6a5-430b47dba582",
       "rows": [
        [
         "count",
         "881.0",
         "881.0"
        ],
        [
         "mean",
         "440.0",
         "3544.9080590238364"
        ],
        [
         "std",
         "254.4670902101095",
         "10686.31766376311"
        ],
        [
         "min",
         "0.0",
         "1.0"
        ],
        [
         "25%",
         "220.0",
         "7.0"
        ],
        [
         "50%",
         "440.0",
         "66.0"
        ],
        [
         "75%",
         "660.0",
         "1101.0"
        ],
        [
         "max",
         "880.0",
         "108877.0"
        ]
       ],
       "shape": {
        "columns": 2,
        "rows": 8
       }
      },
      "text/html": [
       "<div>\n",
       "<style scoped>\n",
       "    .dataframe tbody tr th:only-of-type {\n",
       "        vertical-align: middle;\n",
       "    }\n",
       "\n",
       "    .dataframe tbody tr th {\n",
       "        vertical-align: top;\n",
       "    }\n",
       "\n",
       "    .dataframe thead th {\n",
       "        text-align: right;\n",
       "    }\n",
       "</style>\n",
       "<table border=\"1\" class=\"dataframe\">\n",
       "  <thead>\n",
       "    <tr style=\"text-align: right;\">\n",
       "      <th></th>\n",
       "      <th>cart</th>\n",
       "      <th>cart_popular</th>\n",
       "    </tr>\n",
       "  </thead>\n",
       "  <tbody>\n",
       "    <tr>\n",
       "      <th>count</th>\n",
       "      <td>881.00000</td>\n",
       "      <td>881.000000</td>\n",
       "    </tr>\n",
       "    <tr>\n",
       "      <th>mean</th>\n",
       "      <td>440.00000</td>\n",
       "      <td>3544.908059</td>\n",
       "    </tr>\n",
       "    <tr>\n",
       "      <th>std</th>\n",
       "      <td>254.46709</td>\n",
       "      <td>10686.317664</td>\n",
       "    </tr>\n",
       "    <tr>\n",
       "      <th>min</th>\n",
       "      <td>0.00000</td>\n",
       "      <td>1.000000</td>\n",
       "    </tr>\n",
       "    <tr>\n",
       "      <th>25%</th>\n",
       "      <td>220.00000</td>\n",
       "      <td>7.000000</td>\n",
       "    </tr>\n",
       "    <tr>\n",
       "      <th>50%</th>\n",
       "      <td>440.00000</td>\n",
       "      <td>66.000000</td>\n",
       "    </tr>\n",
       "    <tr>\n",
       "      <th>75%</th>\n",
       "      <td>660.00000</td>\n",
       "      <td>1101.000000</td>\n",
       "    </tr>\n",
       "    <tr>\n",
       "      <th>max</th>\n",
       "      <td>880.00000</td>\n",
       "      <td>108877.000000</td>\n",
       "    </tr>\n",
       "  </tbody>\n",
       "</table>\n",
       "</div>"
      ],
      "text/plain": [
       "            cart   cart_popular\n",
       "count  881.00000     881.000000\n",
       "mean   440.00000    3544.908059\n",
       "std    254.46709   10686.317664\n",
       "min      0.00000       1.000000\n",
       "25%    220.00000       7.000000\n",
       "50%    440.00000      66.000000\n",
       "75%    660.00000    1101.000000\n",
       "max    880.00000  108877.000000"
      ]
     },
     "execution_count": 128,
     "metadata": {},
     "output_type": "execute_result"
    }
   ],
   "source": [
    "category_features.describe()"
   ]
  },
  {
   "cell_type": "code",
   "execution_count": 129,
   "id": "72bcc4f2",
   "metadata": {},
   "outputs": [
    {
     "data": {
      "application/vnd.microsoft.datawrangler.viewer.v0+json": {
       "columns": [
        {
         "name": "index",
         "rawType": "int64",
         "type": "integer"
        },
        {
         "name": "user_id",
         "rawType": "int64",
         "type": "integer"
        },
        {
         "name": "order_completed_at",
         "rawType": "datetime64[ns]",
         "type": "datetime"
        },
        {
         "name": "cart",
         "rawType": "int64",
         "type": "integer"
        },
        {
         "name": "cart_popular",
         "rawType": "int64",
         "type": "integer"
        }
       ],
       "ref": "671a9d8d-8d2e-4be7-bb67-ff485760a612",
       "rows": [
        [
         "0",
         "2",
         "2015-03-22 09:25:46",
         "399",
         "13682"
        ],
        [
         "1",
         "2",
         "2015-03-22 09:25:46",
         "14",
         "93957"
        ],
        [
         "2",
         "2",
         "2015-03-22 09:25:46",
         "198",
         "17707"
        ]
       ],
       "shape": {
        "columns": 4,
        "rows": 3
       }
      },
      "text/html": [
       "<div>\n",
       "<style scoped>\n",
       "    .dataframe tbody tr th:only-of-type {\n",
       "        vertical-align: middle;\n",
       "    }\n",
       "\n",
       "    .dataframe tbody tr th {\n",
       "        vertical-align: top;\n",
       "    }\n",
       "\n",
       "    .dataframe thead th {\n",
       "        text-align: right;\n",
       "    }\n",
       "</style>\n",
       "<table border=\"1\" class=\"dataframe\">\n",
       "  <thead>\n",
       "    <tr style=\"text-align: right;\">\n",
       "      <th></th>\n",
       "      <th>user_id</th>\n",
       "      <th>order_completed_at</th>\n",
       "      <th>cart</th>\n",
       "      <th>cart_popular</th>\n",
       "    </tr>\n",
       "  </thead>\n",
       "  <tbody>\n",
       "    <tr>\n",
       "      <th>0</th>\n",
       "      <td>2</td>\n",
       "      <td>2015-03-22 09:25:46</td>\n",
       "      <td>399</td>\n",
       "      <td>13682</td>\n",
       "    </tr>\n",
       "    <tr>\n",
       "      <th>1</th>\n",
       "      <td>2</td>\n",
       "      <td>2015-03-22 09:25:46</td>\n",
       "      <td>14</td>\n",
       "      <td>93957</td>\n",
       "    </tr>\n",
       "    <tr>\n",
       "      <th>2</th>\n",
       "      <td>2</td>\n",
       "      <td>2015-03-22 09:25:46</td>\n",
       "      <td>198</td>\n",
       "      <td>17707</td>\n",
       "    </tr>\n",
       "  </tbody>\n",
       "</table>\n",
       "</div>"
      ],
      "text/plain": [
       "   user_id  order_completed_at  cart  cart_popular\n",
       "0        2 2015-03-22 09:25:46   399         13682\n",
       "1        2 2015-03-22 09:25:46    14         93957\n",
       "2        2 2015-03-22 09:25:46   198         17707"
      ]
     },
     "execution_count": 129,
     "metadata": {},
     "output_type": "execute_result"
    }
   ],
   "source": [
    "features = pd.merge(df_new, category_features, on='cart')\n",
    "\n",
    "features.head(3)"
   ]
  },
  {
   "cell_type": "code",
   "execution_count": 130,
   "id": "f56f5b6d",
   "metadata": {},
   "outputs": [
    {
     "data": {
      "application/vnd.microsoft.datawrangler.viewer.v0+json": {
       "columns": [
        {
         "name": "index",
         "rawType": "object",
         "type": "string"
        },
        {
         "name": "user_id",
         "rawType": "float64",
         "type": "float"
        },
        {
         "name": "order_completed_at",
         "rawType": "object",
         "type": "unknown"
        },
        {
         "name": "cart",
         "rawType": "float64",
         "type": "float"
        },
        {
         "name": "cart_popular",
         "rawType": "float64",
         "type": "float"
        }
       ],
       "ref": "2fada7f7-99f3-47b0-9461-4fcdc895c6dd",
       "rows": [
        [
         "count",
         "3123064.0",
         "3123064",
         "3123064.0",
         "3123064.0"
        ],
        [
         "mean",
         "7253.372958415197",
         "2020-04-09 01:17:00.182836992",
         "227.3234877671415",
         "35722.8265984943"
        ],
        [
         "min",
         "0.0",
         "2015-03-22 09:25:46",
         "0.0",
         "1.0"
        ],
        [
         "25%",
         "2884.0",
         "2020-02-03 06:03:43",
         "42.0",
         "13958.0"
        ],
        [
         "50%",
         "6055.0",
         "2020-05-19 06:35:20",
         "146.0",
         "27249.0"
        ],
        [
         "75%",
         "11172.0",
         "2020-07-14 04:50:22",
         "399.0",
         "49571.0"
        ],
        [
         "max",
         "19999.0",
         "2020-09-03 23:45:45",
         "880.0",
         "108877.0"
        ],
        [
         "std",
         "5337.837768394717",
         null,
         "211.28674402329082",
         "28928.34146911912"
        ]
       ],
       "shape": {
        "columns": 4,
        "rows": 8
       }
      },
      "text/html": [
       "<div>\n",
       "<style scoped>\n",
       "    .dataframe tbody tr th:only-of-type {\n",
       "        vertical-align: middle;\n",
       "    }\n",
       "\n",
       "    .dataframe tbody tr th {\n",
       "        vertical-align: top;\n",
       "    }\n",
       "\n",
       "    .dataframe thead th {\n",
       "        text-align: right;\n",
       "    }\n",
       "</style>\n",
       "<table border=\"1\" class=\"dataframe\">\n",
       "  <thead>\n",
       "    <tr style=\"text-align: right;\">\n",
       "      <th></th>\n",
       "      <th>user_id</th>\n",
       "      <th>order_completed_at</th>\n",
       "      <th>cart</th>\n",
       "      <th>cart_popular</th>\n",
       "    </tr>\n",
       "  </thead>\n",
       "  <tbody>\n",
       "    <tr>\n",
       "      <th>count</th>\n",
       "      <td>3.123064e+06</td>\n",
       "      <td>3123064</td>\n",
       "      <td>3.123064e+06</td>\n",
       "      <td>3.123064e+06</td>\n",
       "    </tr>\n",
       "    <tr>\n",
       "      <th>mean</th>\n",
       "      <td>7.253373e+03</td>\n",
       "      <td>2020-04-09 01:17:00.182836992</td>\n",
       "      <td>2.273235e+02</td>\n",
       "      <td>3.572283e+04</td>\n",
       "    </tr>\n",
       "    <tr>\n",
       "      <th>min</th>\n",
       "      <td>0.000000e+00</td>\n",
       "      <td>2015-03-22 09:25:46</td>\n",
       "      <td>0.000000e+00</td>\n",
       "      <td>1.000000e+00</td>\n",
       "    </tr>\n",
       "    <tr>\n",
       "      <th>25%</th>\n",
       "      <td>2.884000e+03</td>\n",
       "      <td>2020-02-03 06:03:43</td>\n",
       "      <td>4.200000e+01</td>\n",
       "      <td>1.395800e+04</td>\n",
       "    </tr>\n",
       "    <tr>\n",
       "      <th>50%</th>\n",
       "      <td>6.055000e+03</td>\n",
       "      <td>2020-05-19 06:35:20</td>\n",
       "      <td>1.460000e+02</td>\n",
       "      <td>2.724900e+04</td>\n",
       "    </tr>\n",
       "    <tr>\n",
       "      <th>75%</th>\n",
       "      <td>1.117200e+04</td>\n",
       "      <td>2020-07-14 04:50:22</td>\n",
       "      <td>3.990000e+02</td>\n",
       "      <td>4.957100e+04</td>\n",
       "    </tr>\n",
       "    <tr>\n",
       "      <th>max</th>\n",
       "      <td>1.999900e+04</td>\n",
       "      <td>2020-09-03 23:45:45</td>\n",
       "      <td>8.800000e+02</td>\n",
       "      <td>1.088770e+05</td>\n",
       "    </tr>\n",
       "    <tr>\n",
       "      <th>std</th>\n",
       "      <td>5.337838e+03</td>\n",
       "      <td>NaN</td>\n",
       "      <td>2.112867e+02</td>\n",
       "      <td>2.892834e+04</td>\n",
       "    </tr>\n",
       "  </tbody>\n",
       "</table>\n",
       "</div>"
      ],
      "text/plain": [
       "            user_id             order_completed_at          cart  cart_popular\n",
       "count  3.123064e+06                        3123064  3.123064e+06  3.123064e+06\n",
       "mean   7.253373e+03  2020-04-09 01:17:00.182836992  2.273235e+02  3.572283e+04\n",
       "min    0.000000e+00            2015-03-22 09:25:46  0.000000e+00  1.000000e+00\n",
       "25%    2.884000e+03            2020-02-03 06:03:43  4.200000e+01  1.395800e+04\n",
       "50%    6.055000e+03            2020-05-19 06:35:20  1.460000e+02  2.724900e+04\n",
       "75%    1.117200e+04            2020-07-14 04:50:22  3.990000e+02  4.957100e+04\n",
       "max    1.999900e+04            2020-09-03 23:45:45  8.800000e+02  1.088770e+05\n",
       "std    5.337838e+03                            NaN  2.112867e+02  2.892834e+04"
      ]
     },
     "execution_count": 130,
     "metadata": {},
     "output_type": "execute_result"
    }
   ],
   "source": [
    "features.describe()"
   ]
  },
  {
   "cell_type": "code",
   "execution_count": 131,
   "id": "52e64527",
   "metadata": {},
   "outputs": [
    {
     "data": {
      "application/vnd.microsoft.datawrangler.viewer.v0+json": {
       "columns": [
        {
         "name": "index",
         "rawType": "int64",
         "type": "integer"
        },
        {
         "name": "user_id",
         "rawType": "int64",
         "type": "integer"
        },
        {
         "name": "cart",
         "rawType": "int64",
         "type": "integer"
        },
        {
         "name": "cart_order_count",
         "rawType": "int64",
         "type": "integer"
        },
        {
         "name": "diff_order_date",
         "rawType": "int64",
         "type": "integer"
        }
       ],
       "ref": "b4259d9d-0098-4a57-82e2-1b07b1431027",
       "rows": [
        [
         "0",
         "0",
         "5",
         "1",
         "0"
        ],
        [
         "1",
         "0",
         "10",
         "1",
         "0"
        ],
        [
         "2",
         "0",
         "14",
         "2",
         "35"
        ]
       ],
       "shape": {
        "columns": 4,
        "rows": 3
       }
      },
      "text/html": [
       "<div>\n",
       "<style scoped>\n",
       "    .dataframe tbody tr th:only-of-type {\n",
       "        vertical-align: middle;\n",
       "    }\n",
       "\n",
       "    .dataframe tbody tr th {\n",
       "        vertical-align: top;\n",
       "    }\n",
       "\n",
       "    .dataframe thead th {\n",
       "        text-align: right;\n",
       "    }\n",
       "</style>\n",
       "<table border=\"1\" class=\"dataframe\">\n",
       "  <thead>\n",
       "    <tr style=\"text-align: right;\">\n",
       "      <th></th>\n",
       "      <th>user_id</th>\n",
       "      <th>cart</th>\n",
       "      <th>cart_order_count</th>\n",
       "      <th>diff_order_date</th>\n",
       "    </tr>\n",
       "  </thead>\n",
       "  <tbody>\n",
       "    <tr>\n",
       "      <th>0</th>\n",
       "      <td>0</td>\n",
       "      <td>5</td>\n",
       "      <td>1</td>\n",
       "      <td>0</td>\n",
       "    </tr>\n",
       "    <tr>\n",
       "      <th>1</th>\n",
       "      <td>0</td>\n",
       "      <td>10</td>\n",
       "      <td>1</td>\n",
       "      <td>0</td>\n",
       "    </tr>\n",
       "    <tr>\n",
       "      <th>2</th>\n",
       "      <td>0</td>\n",
       "      <td>14</td>\n",
       "      <td>2</td>\n",
       "      <td>35</td>\n",
       "    </tr>\n",
       "  </tbody>\n",
       "</table>\n",
       "</div>"
      ],
      "text/plain": [
       "   user_id  cart  cart_order_count  diff_order_date\n",
       "0        0     5                 1                0\n",
       "1        0    10                 1                0\n",
       "2        0    14                 2               35"
      ]
     },
     "execution_count": 131,
     "metadata": {},
     "output_type": "execute_result"
    }
   ],
   "source": [
    "# Считаем, сколько раз пользователь заказывал категорию\n",
    "user_cat_features = df_new.groupby(['user_id', 'cart']).agg(\n",
    "    cart_order_count=('order_completed_at', 'count'),         # Частота заказов по каждому user\n",
    "    last_order_date=('order_completed_at', 'max'),            # Дата последнего заказа\n",
    "    first_order_date=('order_completed_at', 'min')            # Дата первого заказа\n",
    "\n",
    ").reset_index()\n",
    "\n",
    "user_cat_features['diff_order_date']=(user_cat_features.last_order_date-user_cat_features.first_order_date).dt.days;\n",
    "#.dt.days — сразу возвращает целое число дней (отбрасывая часы/минуты).\n",
    "\n",
    "user_cat_features=user_cat_features.drop([\"last_order_date\", \"first_order_date\"], axis=1);\n",
    "\n",
    "user_cat_features.head(3)"
   ]
  },
  {
   "cell_type": "code",
   "execution_count": 132,
   "id": "7062405a",
   "metadata": {},
   "outputs": [
    {
     "data": {
      "application/vnd.microsoft.datawrangler.viewer.v0+json": {
       "columns": [
        {
         "name": "index",
         "rawType": "object",
         "type": "string"
        },
        {
         "name": "user_id",
         "rawType": "float64",
         "type": "float"
        },
        {
         "name": "cart",
         "rawType": "float64",
         "type": "float"
        },
        {
         "name": "cart_order_count",
         "rawType": "float64",
         "type": "float"
        },
        {
         "name": "diff_order_date",
         "rawType": "float64",
         "type": "float"
        }
       ],
       "ref": "3be2f01b-9447-41ed-a95b-defa648dec50",
       "rows": [
        [
         "count",
         "1117600.0",
         "1117600.0",
         "1117600.0",
         "1117600.0"
        ],
        [
         "mean",
         "8653.121885289907",
         "256.97028453829637",
         "2.794438081603436",
         "67.33845561918396"
        ],
        [
         "std",
         "5624.315303972958",
         "221.3021470598466",
         "3.9075221925026358",
         "119.20000174561653"
        ],
        [
         "min",
         "0.0",
         "0.0",
         "1.0",
         "0.0"
        ],
        [
         "25%",
         "3787.0",
         "61.0",
         "1.0",
         "0.0"
        ],
        [
         "50%",
         "7990.0",
         "197.0",
         "1.0",
         "0.0"
        ],
        [
         "75%",
         "13224.0",
         "403.0",
         "3.0",
         "91.0"
        ],
        [
         "max",
         "19999.0",
         "880.0",
         "196.0",
         "1915.0"
        ]
       ],
       "shape": {
        "columns": 4,
        "rows": 8
       }
      },
      "text/html": [
       "<div>\n",
       "<style scoped>\n",
       "    .dataframe tbody tr th:only-of-type {\n",
       "        vertical-align: middle;\n",
       "    }\n",
       "\n",
       "    .dataframe tbody tr th {\n",
       "        vertical-align: top;\n",
       "    }\n",
       "\n",
       "    .dataframe thead th {\n",
       "        text-align: right;\n",
       "    }\n",
       "</style>\n",
       "<table border=\"1\" class=\"dataframe\">\n",
       "  <thead>\n",
       "    <tr style=\"text-align: right;\">\n",
       "      <th></th>\n",
       "      <th>user_id</th>\n",
       "      <th>cart</th>\n",
       "      <th>cart_order_count</th>\n",
       "      <th>diff_order_date</th>\n",
       "    </tr>\n",
       "  </thead>\n",
       "  <tbody>\n",
       "    <tr>\n",
       "      <th>count</th>\n",
       "      <td>1.117600e+06</td>\n",
       "      <td>1.117600e+06</td>\n",
       "      <td>1.117600e+06</td>\n",
       "      <td>1.117600e+06</td>\n",
       "    </tr>\n",
       "    <tr>\n",
       "      <th>mean</th>\n",
       "      <td>8.653122e+03</td>\n",
       "      <td>2.569703e+02</td>\n",
       "      <td>2.794438e+00</td>\n",
       "      <td>6.733846e+01</td>\n",
       "    </tr>\n",
       "    <tr>\n",
       "      <th>std</th>\n",
       "      <td>5.624315e+03</td>\n",
       "      <td>2.213021e+02</td>\n",
       "      <td>3.907522e+00</td>\n",
       "      <td>1.192000e+02</td>\n",
       "    </tr>\n",
       "    <tr>\n",
       "      <th>min</th>\n",
       "      <td>0.000000e+00</td>\n",
       "      <td>0.000000e+00</td>\n",
       "      <td>1.000000e+00</td>\n",
       "      <td>0.000000e+00</td>\n",
       "    </tr>\n",
       "    <tr>\n",
       "      <th>25%</th>\n",
       "      <td>3.787000e+03</td>\n",
       "      <td>6.100000e+01</td>\n",
       "      <td>1.000000e+00</td>\n",
       "      <td>0.000000e+00</td>\n",
       "    </tr>\n",
       "    <tr>\n",
       "      <th>50%</th>\n",
       "      <td>7.990000e+03</td>\n",
       "      <td>1.970000e+02</td>\n",
       "      <td>1.000000e+00</td>\n",
       "      <td>0.000000e+00</td>\n",
       "    </tr>\n",
       "    <tr>\n",
       "      <th>75%</th>\n",
       "      <td>1.322400e+04</td>\n",
       "      <td>4.030000e+02</td>\n",
       "      <td>3.000000e+00</td>\n",
       "      <td>9.100000e+01</td>\n",
       "    </tr>\n",
       "    <tr>\n",
       "      <th>max</th>\n",
       "      <td>1.999900e+04</td>\n",
       "      <td>8.800000e+02</td>\n",
       "      <td>1.960000e+02</td>\n",
       "      <td>1.915000e+03</td>\n",
       "    </tr>\n",
       "  </tbody>\n",
       "</table>\n",
       "</div>"
      ],
      "text/plain": [
       "            user_id          cart  cart_order_count  diff_order_date\n",
       "count  1.117600e+06  1.117600e+06      1.117600e+06     1.117600e+06\n",
       "mean   8.653122e+03  2.569703e+02      2.794438e+00     6.733846e+01\n",
       "std    5.624315e+03  2.213021e+02      3.907522e+00     1.192000e+02\n",
       "min    0.000000e+00  0.000000e+00      1.000000e+00     0.000000e+00\n",
       "25%    3.787000e+03  6.100000e+01      1.000000e+00     0.000000e+00\n",
       "50%    7.990000e+03  1.970000e+02      1.000000e+00     0.000000e+00\n",
       "75%    1.322400e+04  4.030000e+02      3.000000e+00     9.100000e+01\n",
       "max    1.999900e+04  8.800000e+02      1.960000e+02     1.915000e+03"
      ]
     },
     "execution_count": 132,
     "metadata": {},
     "output_type": "execute_result"
    }
   ],
   "source": [
    "user_cat_features.describe()"
   ]
  },
  {
   "cell_type": "code",
   "execution_count": 133,
   "id": "79b66af1",
   "metadata": {},
   "outputs": [
    {
     "data": {
      "application/vnd.microsoft.datawrangler.viewer.v0+json": {
       "columns": [
        {
         "name": "index",
         "rawType": "int64",
         "type": "integer"
        },
        {
         "name": "user_id",
         "rawType": "int64",
         "type": "integer"
        },
        {
         "name": "order_completed_at",
         "rawType": "datetime64[ns]",
         "type": "datetime"
        },
        {
         "name": "cart",
         "rawType": "int64",
         "type": "integer"
        },
        {
         "name": "cart_popular",
         "rawType": "int64",
         "type": "integer"
        },
        {
         "name": "cart_order_count",
         "rawType": "int64",
         "type": "integer"
        },
        {
         "name": "diff_order_date",
         "rawType": "int64",
         "type": "integer"
        }
       ],
       "ref": "a6f98696-e38f-46da-8a37-7fff8c00d9a5",
       "rows": [
        [
         "0",
         "2",
         "2015-03-22 09:25:46",
         "399",
         "13682",
         "1",
         "0"
        ],
        [
         "1",
         "2",
         "2015-03-22 09:25:46",
         "14",
         "93957",
         "1",
         "0"
        ],
        [
         "2",
         "2",
         "2015-03-22 09:25:46",
         "198",
         "17707",
         "2",
         "1027"
        ]
       ],
       "shape": {
        "columns": 6,
        "rows": 3
       }
      },
      "text/html": [
       "<div>\n",
       "<style scoped>\n",
       "    .dataframe tbody tr th:only-of-type {\n",
       "        vertical-align: middle;\n",
       "    }\n",
       "\n",
       "    .dataframe tbody tr th {\n",
       "        vertical-align: top;\n",
       "    }\n",
       "\n",
       "    .dataframe thead th {\n",
       "        text-align: right;\n",
       "    }\n",
       "</style>\n",
       "<table border=\"1\" class=\"dataframe\">\n",
       "  <thead>\n",
       "    <tr style=\"text-align: right;\">\n",
       "      <th></th>\n",
       "      <th>user_id</th>\n",
       "      <th>order_completed_at</th>\n",
       "      <th>cart</th>\n",
       "      <th>cart_popular</th>\n",
       "      <th>cart_order_count</th>\n",
       "      <th>diff_order_date</th>\n",
       "    </tr>\n",
       "  </thead>\n",
       "  <tbody>\n",
       "    <tr>\n",
       "      <th>0</th>\n",
       "      <td>2</td>\n",
       "      <td>2015-03-22 09:25:46</td>\n",
       "      <td>399</td>\n",
       "      <td>13682</td>\n",
       "      <td>1</td>\n",
       "      <td>0</td>\n",
       "    </tr>\n",
       "    <tr>\n",
       "      <th>1</th>\n",
       "      <td>2</td>\n",
       "      <td>2015-03-22 09:25:46</td>\n",
       "      <td>14</td>\n",
       "      <td>93957</td>\n",
       "      <td>1</td>\n",
       "      <td>0</td>\n",
       "    </tr>\n",
       "    <tr>\n",
       "      <th>2</th>\n",
       "      <td>2</td>\n",
       "      <td>2015-03-22 09:25:46</td>\n",
       "      <td>198</td>\n",
       "      <td>17707</td>\n",
       "      <td>2</td>\n",
       "      <td>1027</td>\n",
       "    </tr>\n",
       "  </tbody>\n",
       "</table>\n",
       "</div>"
      ],
      "text/plain": [
       "   user_id  order_completed_at  cart  cart_popular  cart_order_count  \\\n",
       "0        2 2015-03-22 09:25:46   399         13682                 1   \n",
       "1        2 2015-03-22 09:25:46    14         93957                 1   \n",
       "2        2 2015-03-22 09:25:46   198         17707                 2   \n",
       "\n",
       "   diff_order_date  \n",
       "0                0  \n",
       "1                0  \n",
       "2             1027  "
      ]
     },
     "execution_count": 133,
     "metadata": {},
     "output_type": "execute_result"
    }
   ],
   "source": [
    "features = pd.merge(features, user_cat_features, on=['user_id','cart'], how=\"left\")\n",
    "\n",
    "features.head(3)"
   ]
  },
  {
   "cell_type": "code",
   "execution_count": 153,
   "id": "fb405b32",
   "metadata": {},
   "outputs": [
    {
     "data": {
      "application/vnd.microsoft.datawrangler.viewer.v0+json": {
       "columns": [
        {
         "name": "index",
         "rawType": "object",
         "type": "string"
        },
        {
         "name": "user_id",
         "rawType": "float64",
         "type": "float"
        },
        {
         "name": "order_completed_at",
         "rawType": "object",
         "type": "unknown"
        },
        {
         "name": "cart",
         "rawType": "float64",
         "type": "float"
        },
        {
         "name": "cart_popular",
         "rawType": "float64",
         "type": "float"
        },
        {
         "name": "cart_order_count",
         "rawType": "float64",
         "type": "float"
        },
        {
         "name": "diff_order_date",
         "rawType": "float64",
         "type": "float"
        },
        {
         "name": "target",
         "rawType": "float64",
         "type": "float"
        }
       ],
       "ref": "bcc8046c-51f3-4224-a30a-b4ae84715bc6",
       "rows": [
        [
         "count",
         "3123064.0",
         "3123064",
         "3123064.0",
         "3123064.0",
         "3123064.0",
         "3123064.0",
         "3123064.0"
        ],
        [
         "mean",
         "7253.372958415197",
         "2020-04-09 01:17:00.182836992",
         "227.3234877671415",
         "35722.8265984943",
         "8.258404566797223",
         "166.69523871428828",
         "0.6123140608069512"
        ],
        [
         "min",
         "0.0",
         "2015-03-22 09:25:46",
         "0.0",
         "1.0",
         "1.0",
         "0.0",
         "0.0"
        ],
        [
         "10%",
         "938.0",
         "2019-10-26 21:07:12",
         "17.0",
         "4914.0",
         "1.0",
         "0.0",
         "0.0"
        ],
        [
         "25%",
         "2884.0",
         "2020-02-03 06:03:43",
         "42.0",
         "13958.0",
         "2.0",
         "25.0",
         "0.0"
        ],
        [
         "50%",
         "6055.0",
         "2020-05-19 06:35:20",
         "146.0",
         "27249.0",
         "4.0",
         "120.0",
         "1.0"
        ],
        [
         "75%",
         "11172.0",
         "2020-07-14 04:50:22",
         "399.0",
         "49571.0",
         "10.0",
         "265.0",
         "1.0"
        ],
        [
         "95%",
         "17497.0",
         "2020-08-24 10:19:24",
         "686.0",
         "93957.0",
         "29.0",
         "462.0",
         "1.0"
        ],
        [
         "max",
         "19999.0",
         "2020-09-03 23:45:45",
         "880.0",
         "108877.0",
         "196.0",
         "1915.0",
         "1.0"
        ],
        [
         "std",
         "5337.837768394717",
         null,
         "211.28674402329082",
         "28928.34146911912",
         "11.080923919220732",
         "180.93898292272007",
         "0.4872223596629607"
        ]
       ],
       "shape": {
        "columns": 7,
        "rows": 10
       }
      },
      "text/html": [
       "<div>\n",
       "<style scoped>\n",
       "    .dataframe tbody tr th:only-of-type {\n",
       "        vertical-align: middle;\n",
       "    }\n",
       "\n",
       "    .dataframe tbody tr th {\n",
       "        vertical-align: top;\n",
       "    }\n",
       "\n",
       "    .dataframe thead th {\n",
       "        text-align: right;\n",
       "    }\n",
       "</style>\n",
       "<table border=\"1\" class=\"dataframe\">\n",
       "  <thead>\n",
       "    <tr style=\"text-align: right;\">\n",
       "      <th></th>\n",
       "      <th>user_id</th>\n",
       "      <th>order_completed_at</th>\n",
       "      <th>cart</th>\n",
       "      <th>cart_popular</th>\n",
       "      <th>cart_order_count</th>\n",
       "      <th>diff_order_date</th>\n",
       "      <th>target</th>\n",
       "    </tr>\n",
       "  </thead>\n",
       "  <tbody>\n",
       "    <tr>\n",
       "      <th>count</th>\n",
       "      <td>3.123064e+06</td>\n",
       "      <td>3123064</td>\n",
       "      <td>3.123064e+06</td>\n",
       "      <td>3.123064e+06</td>\n",
       "      <td>3.123064e+06</td>\n",
       "      <td>3.123064e+06</td>\n",
       "      <td>3.123064e+06</td>\n",
       "    </tr>\n",
       "    <tr>\n",
       "      <th>mean</th>\n",
       "      <td>7.253373e+03</td>\n",
       "      <td>2020-04-09 01:17:00.182836992</td>\n",
       "      <td>2.273235e+02</td>\n",
       "      <td>3.572283e+04</td>\n",
       "      <td>8.258405e+00</td>\n",
       "      <td>1.666952e+02</td>\n",
       "      <td>6.123141e-01</td>\n",
       "    </tr>\n",
       "    <tr>\n",
       "      <th>min</th>\n",
       "      <td>0.000000e+00</td>\n",
       "      <td>2015-03-22 09:25:46</td>\n",
       "      <td>0.000000e+00</td>\n",
       "      <td>1.000000e+00</td>\n",
       "      <td>1.000000e+00</td>\n",
       "      <td>0.000000e+00</td>\n",
       "      <td>0.000000e+00</td>\n",
       "    </tr>\n",
       "    <tr>\n",
       "      <th>10%</th>\n",
       "      <td>9.380000e+02</td>\n",
       "      <td>2019-10-26 21:07:12</td>\n",
       "      <td>1.700000e+01</td>\n",
       "      <td>4.914000e+03</td>\n",
       "      <td>1.000000e+00</td>\n",
       "      <td>0.000000e+00</td>\n",
       "      <td>0.000000e+00</td>\n",
       "    </tr>\n",
       "    <tr>\n",
       "      <th>25%</th>\n",
       "      <td>2.884000e+03</td>\n",
       "      <td>2020-02-03 06:03:43</td>\n",
       "      <td>4.200000e+01</td>\n",
       "      <td>1.395800e+04</td>\n",
       "      <td>2.000000e+00</td>\n",
       "      <td>2.500000e+01</td>\n",
       "      <td>0.000000e+00</td>\n",
       "    </tr>\n",
       "    <tr>\n",
       "      <th>50%</th>\n",
       "      <td>6.055000e+03</td>\n",
       "      <td>2020-05-19 06:35:20</td>\n",
       "      <td>1.460000e+02</td>\n",
       "      <td>2.724900e+04</td>\n",
       "      <td>4.000000e+00</td>\n",
       "      <td>1.200000e+02</td>\n",
       "      <td>1.000000e+00</td>\n",
       "    </tr>\n",
       "    <tr>\n",
       "      <th>75%</th>\n",
       "      <td>1.117200e+04</td>\n",
       "      <td>2020-07-14 04:50:22</td>\n",
       "      <td>3.990000e+02</td>\n",
       "      <td>4.957100e+04</td>\n",
       "      <td>1.000000e+01</td>\n",
       "      <td>2.650000e+02</td>\n",
       "      <td>1.000000e+00</td>\n",
       "    </tr>\n",
       "    <tr>\n",
       "      <th>95%</th>\n",
       "      <td>1.749700e+04</td>\n",
       "      <td>2020-08-24 10:19:24</td>\n",
       "      <td>6.860000e+02</td>\n",
       "      <td>9.395700e+04</td>\n",
       "      <td>2.900000e+01</td>\n",
       "      <td>4.620000e+02</td>\n",
       "      <td>1.000000e+00</td>\n",
       "    </tr>\n",
       "    <tr>\n",
       "      <th>max</th>\n",
       "      <td>1.999900e+04</td>\n",
       "      <td>2020-09-03 23:45:45</td>\n",
       "      <td>8.800000e+02</td>\n",
       "      <td>1.088770e+05</td>\n",
       "      <td>1.960000e+02</td>\n",
       "      <td>1.915000e+03</td>\n",
       "      <td>1.000000e+00</td>\n",
       "    </tr>\n",
       "    <tr>\n",
       "      <th>std</th>\n",
       "      <td>5.337838e+03</td>\n",
       "      <td>NaN</td>\n",
       "      <td>2.112867e+02</td>\n",
       "      <td>2.892834e+04</td>\n",
       "      <td>1.108092e+01</td>\n",
       "      <td>1.809390e+02</td>\n",
       "      <td>4.872224e-01</td>\n",
       "    </tr>\n",
       "  </tbody>\n",
       "</table>\n",
       "</div>"
      ],
      "text/plain": [
       "            user_id             order_completed_at          cart  \\\n",
       "count  3.123064e+06                        3123064  3.123064e+06   \n",
       "mean   7.253373e+03  2020-04-09 01:17:00.182836992  2.273235e+02   \n",
       "min    0.000000e+00            2015-03-22 09:25:46  0.000000e+00   \n",
       "10%    9.380000e+02            2019-10-26 21:07:12  1.700000e+01   \n",
       "25%    2.884000e+03            2020-02-03 06:03:43  4.200000e+01   \n",
       "50%    6.055000e+03            2020-05-19 06:35:20  1.460000e+02   \n",
       "75%    1.117200e+04            2020-07-14 04:50:22  3.990000e+02   \n",
       "95%    1.749700e+04            2020-08-24 10:19:24  6.860000e+02   \n",
       "max    1.999900e+04            2020-09-03 23:45:45  8.800000e+02   \n",
       "std    5.337838e+03                            NaN  2.112867e+02   \n",
       "\n",
       "       cart_popular  cart_order_count  diff_order_date        target  \n",
       "count  3.123064e+06      3.123064e+06     3.123064e+06  3.123064e+06  \n",
       "mean   3.572283e+04      8.258405e+00     1.666952e+02  6.123141e-01  \n",
       "min    1.000000e+00      1.000000e+00     0.000000e+00  0.000000e+00  \n",
       "10%    4.914000e+03      1.000000e+00     0.000000e+00  0.000000e+00  \n",
       "25%    1.395800e+04      2.000000e+00     2.500000e+01  0.000000e+00  \n",
       "50%    2.724900e+04      4.000000e+00     1.200000e+02  1.000000e+00  \n",
       "75%    4.957100e+04      1.000000e+01     2.650000e+02  1.000000e+00  \n",
       "95%    9.395700e+04      2.900000e+01     4.620000e+02  1.000000e+00  \n",
       "max    1.088770e+05      1.960000e+02     1.915000e+03  1.000000e+00  \n",
       "std    2.892834e+04      1.108092e+01     1.809390e+02  4.872224e-01  "
      ]
     },
     "execution_count": 153,
     "metadata": {},
     "output_type": "execute_result"
    }
   ],
   "source": [
    "features.describe(percentiles=[0.1, 0.25, 0.5, 0.75, 0.95])"
   ]
  },
  {
   "cell_type": "code",
   "execution_count": 135,
   "id": "79e86fd5",
   "metadata": {},
   "outputs": [],
   "source": [
    "#features = pd.merge(features, user_features, on=['user_id'], how=\"left\")\n",
    "\n",
    "#features.head(3)"
   ]
  },
  {
   "cell_type": "code",
   "execution_count": null,
   "id": "6cffed39",
   "metadata": {},
   "outputs": [],
   "source": [
    "features[\"target\"]=np.where((features['cart_popular'] > 5000) &         # Популярность\n",
    "                             (features['cart_order_count'] >2)&          # Частота заказов по каждому user\n",
    "                             (features['diff_order_date'] > 1), 1, 0)    # количество дней между первым и последним заказом"
   ]
  },
  {
   "cell_type": "code",
   "execution_count": 137,
   "id": "f8461c64",
   "metadata": {},
   "outputs": [
    {
     "name": "stdout",
     "output_type": "stream",
     "text": [
      "target\n",
      "1    1912296\n",
      "0    1210768\n",
      "Name: count, dtype: int64\n"
     ]
    }
   ],
   "source": [
    "print(features['target'].value_counts())"
   ]
  },
  {
   "cell_type": "code",
   "execution_count": 138,
   "id": "7817e03f",
   "metadata": {},
   "outputs": [
    {
     "data": {
      "application/vnd.microsoft.datawrangler.viewer.v0+json": {
       "columns": [
        {
         "name": "index",
         "rawType": "object",
         "type": "string"
        },
        {
         "name": "user_id",
         "rawType": "float64",
         "type": "float"
        },
        {
         "name": "order_completed_at",
         "rawType": "object",
         "type": "unknown"
        },
        {
         "name": "cart",
         "rawType": "float64",
         "type": "float"
        },
        {
         "name": "cart_popular",
         "rawType": "float64",
         "type": "float"
        },
        {
         "name": "cart_order_count",
         "rawType": "float64",
         "type": "float"
        },
        {
         "name": "diff_order_date",
         "rawType": "float64",
         "type": "float"
        },
        {
         "name": "target",
         "rawType": "float64",
         "type": "float"
        }
       ],
       "ref": "e2e8460b-41bd-40f0-8124-b2fb4287e6ca",
       "rows": [
        [
         "count",
         "3123064.0",
         "3123064",
         "3123064.0",
         "3123064.0",
         "3123064.0",
         "3123064.0",
         "3123064.0"
        ],
        [
         "mean",
         "7253.372958415197",
         "2020-04-09 01:17:00.182836992",
         "227.3234877671415",
         "35722.8265984943",
         "8.258404566797223",
         "166.69523871428828",
         "0.6123140608069512"
        ],
        [
         "min",
         "0.0",
         "2015-03-22 09:25:46",
         "0.0",
         "1.0",
         "1.0",
         "0.0",
         "0.0"
        ],
        [
         "25%",
         "2884.0",
         "2020-02-03 06:03:43",
         "42.0",
         "13958.0",
         "2.0",
         "25.0",
         "0.0"
        ],
        [
         "50%",
         "6055.0",
         "2020-05-19 06:35:20",
         "146.0",
         "27249.0",
         "4.0",
         "120.0",
         "1.0"
        ],
        [
         "75%",
         "11172.0",
         "2020-07-14 04:50:22",
         "399.0",
         "49571.0",
         "10.0",
         "265.0",
         "1.0"
        ],
        [
         "max",
         "19999.0",
         "2020-09-03 23:45:45",
         "880.0",
         "108877.0",
         "196.0",
         "1915.0",
         "1.0"
        ],
        [
         "std",
         "5337.837768394717",
         null,
         "211.28674402329082",
         "28928.34146911912",
         "11.080923919220732",
         "180.93898292272007",
         "0.4872223596629607"
        ]
       ],
       "shape": {
        "columns": 7,
        "rows": 8
       }
      },
      "text/html": [
       "<div>\n",
       "<style scoped>\n",
       "    .dataframe tbody tr th:only-of-type {\n",
       "        vertical-align: middle;\n",
       "    }\n",
       "\n",
       "    .dataframe tbody tr th {\n",
       "        vertical-align: top;\n",
       "    }\n",
       "\n",
       "    .dataframe thead th {\n",
       "        text-align: right;\n",
       "    }\n",
       "</style>\n",
       "<table border=\"1\" class=\"dataframe\">\n",
       "  <thead>\n",
       "    <tr style=\"text-align: right;\">\n",
       "      <th></th>\n",
       "      <th>user_id</th>\n",
       "      <th>order_completed_at</th>\n",
       "      <th>cart</th>\n",
       "      <th>cart_popular</th>\n",
       "      <th>cart_order_count</th>\n",
       "      <th>diff_order_date</th>\n",
       "      <th>target</th>\n",
       "    </tr>\n",
       "  </thead>\n",
       "  <tbody>\n",
       "    <tr>\n",
       "      <th>count</th>\n",
       "      <td>3.123064e+06</td>\n",
       "      <td>3123064</td>\n",
       "      <td>3.123064e+06</td>\n",
       "      <td>3.123064e+06</td>\n",
       "      <td>3.123064e+06</td>\n",
       "      <td>3.123064e+06</td>\n",
       "      <td>3.123064e+06</td>\n",
       "    </tr>\n",
       "    <tr>\n",
       "      <th>mean</th>\n",
       "      <td>7.253373e+03</td>\n",
       "      <td>2020-04-09 01:17:00.182836992</td>\n",
       "      <td>2.273235e+02</td>\n",
       "      <td>3.572283e+04</td>\n",
       "      <td>8.258405e+00</td>\n",
       "      <td>1.666952e+02</td>\n",
       "      <td>6.123141e-01</td>\n",
       "    </tr>\n",
       "    <tr>\n",
       "      <th>min</th>\n",
       "      <td>0.000000e+00</td>\n",
       "      <td>2015-03-22 09:25:46</td>\n",
       "      <td>0.000000e+00</td>\n",
       "      <td>1.000000e+00</td>\n",
       "      <td>1.000000e+00</td>\n",
       "      <td>0.000000e+00</td>\n",
       "      <td>0.000000e+00</td>\n",
       "    </tr>\n",
       "    <tr>\n",
       "      <th>25%</th>\n",
       "      <td>2.884000e+03</td>\n",
       "      <td>2020-02-03 06:03:43</td>\n",
       "      <td>4.200000e+01</td>\n",
       "      <td>1.395800e+04</td>\n",
       "      <td>2.000000e+00</td>\n",
       "      <td>2.500000e+01</td>\n",
       "      <td>0.000000e+00</td>\n",
       "    </tr>\n",
       "    <tr>\n",
       "      <th>50%</th>\n",
       "      <td>6.055000e+03</td>\n",
       "      <td>2020-05-19 06:35:20</td>\n",
       "      <td>1.460000e+02</td>\n",
       "      <td>2.724900e+04</td>\n",
       "      <td>4.000000e+00</td>\n",
       "      <td>1.200000e+02</td>\n",
       "      <td>1.000000e+00</td>\n",
       "    </tr>\n",
       "    <tr>\n",
       "      <th>75%</th>\n",
       "      <td>1.117200e+04</td>\n",
       "      <td>2020-07-14 04:50:22</td>\n",
       "      <td>3.990000e+02</td>\n",
       "      <td>4.957100e+04</td>\n",
       "      <td>1.000000e+01</td>\n",
       "      <td>2.650000e+02</td>\n",
       "      <td>1.000000e+00</td>\n",
       "    </tr>\n",
       "    <tr>\n",
       "      <th>max</th>\n",
       "      <td>1.999900e+04</td>\n",
       "      <td>2020-09-03 23:45:45</td>\n",
       "      <td>8.800000e+02</td>\n",
       "      <td>1.088770e+05</td>\n",
       "      <td>1.960000e+02</td>\n",
       "      <td>1.915000e+03</td>\n",
       "      <td>1.000000e+00</td>\n",
       "    </tr>\n",
       "    <tr>\n",
       "      <th>std</th>\n",
       "      <td>5.337838e+03</td>\n",
       "      <td>NaN</td>\n",
       "      <td>2.112867e+02</td>\n",
       "      <td>2.892834e+04</td>\n",
       "      <td>1.108092e+01</td>\n",
       "      <td>1.809390e+02</td>\n",
       "      <td>4.872224e-01</td>\n",
       "    </tr>\n",
       "  </tbody>\n",
       "</table>\n",
       "</div>"
      ],
      "text/plain": [
       "            user_id             order_completed_at          cart  \\\n",
       "count  3.123064e+06                        3123064  3.123064e+06   \n",
       "mean   7.253373e+03  2020-04-09 01:17:00.182836992  2.273235e+02   \n",
       "min    0.000000e+00            2015-03-22 09:25:46  0.000000e+00   \n",
       "25%    2.884000e+03            2020-02-03 06:03:43  4.200000e+01   \n",
       "50%    6.055000e+03            2020-05-19 06:35:20  1.460000e+02   \n",
       "75%    1.117200e+04            2020-07-14 04:50:22  3.990000e+02   \n",
       "max    1.999900e+04            2020-09-03 23:45:45  8.800000e+02   \n",
       "std    5.337838e+03                            NaN  2.112867e+02   \n",
       "\n",
       "       cart_popular  cart_order_count  diff_order_date        target  \n",
       "count  3.123064e+06      3.123064e+06     3.123064e+06  3.123064e+06  \n",
       "mean   3.572283e+04      8.258405e+00     1.666952e+02  6.123141e-01  \n",
       "min    1.000000e+00      1.000000e+00     0.000000e+00  0.000000e+00  \n",
       "25%    1.395800e+04      2.000000e+00     2.500000e+01  0.000000e+00  \n",
       "50%    2.724900e+04      4.000000e+00     1.200000e+02  1.000000e+00  \n",
       "75%    4.957100e+04      1.000000e+01     2.650000e+02  1.000000e+00  \n",
       "max    1.088770e+05      1.960000e+02     1.915000e+03  1.000000e+00  \n",
       "std    2.892834e+04      1.108092e+01     1.809390e+02  4.872224e-01  "
      ]
     },
     "execution_count": 138,
     "metadata": {},
     "output_type": "execute_result"
    }
   ],
   "source": [
    "features.describe()"
   ]
  },
  {
   "cell_type": "code",
   "execution_count": 139,
   "id": "a074d954",
   "metadata": {},
   "outputs": [
    {
     "data": {
      "application/vnd.microsoft.datawrangler.viewer.v0+json": {
       "columns": [
        {
         "name": "index",
         "rawType": "int64",
         "type": "integer"
        },
        {
         "name": "user_id",
         "rawType": "int64",
         "type": "integer"
        },
        {
         "name": "order_completed_at",
         "rawType": "datetime64[ns]",
         "type": "datetime"
        },
        {
         "name": "cart",
         "rawType": "int64",
         "type": "integer"
        },
        {
         "name": "cart_popular",
         "rawType": "int64",
         "type": "integer"
        },
        {
         "name": "cart_order_count",
         "rawType": "int64",
         "type": "integer"
        },
        {
         "name": "diff_order_date",
         "rawType": "int64",
         "type": "integer"
        },
        {
         "name": "target",
         "rawType": "int32",
         "type": "integer"
        }
       ],
       "ref": "0dfd31f4-edd5-4dff-b98c-b5fe6b8b0922",
       "rows": [
        [
         "0",
         "2",
         "2015-03-22 09:25:46",
         "399",
         "13682",
         "1",
         "0",
         "0"
        ],
        [
         "1",
         "2",
         "2015-03-22 09:25:46",
         "14",
         "93957",
         "1",
         "0",
         "0"
        ],
        [
         "2",
         "2",
         "2015-03-22 09:25:46",
         "198",
         "17707",
         "2",
         "1027",
         "0"
        ]
       ],
       "shape": {
        "columns": 7,
        "rows": 3
       }
      },
      "text/html": [
       "<div>\n",
       "<style scoped>\n",
       "    .dataframe tbody tr th:only-of-type {\n",
       "        vertical-align: middle;\n",
       "    }\n",
       "\n",
       "    .dataframe tbody tr th {\n",
       "        vertical-align: top;\n",
       "    }\n",
       "\n",
       "    .dataframe thead th {\n",
       "        text-align: right;\n",
       "    }\n",
       "</style>\n",
       "<table border=\"1\" class=\"dataframe\">\n",
       "  <thead>\n",
       "    <tr style=\"text-align: right;\">\n",
       "      <th></th>\n",
       "      <th>user_id</th>\n",
       "      <th>order_completed_at</th>\n",
       "      <th>cart</th>\n",
       "      <th>cart_popular</th>\n",
       "      <th>cart_order_count</th>\n",
       "      <th>diff_order_date</th>\n",
       "      <th>target</th>\n",
       "    </tr>\n",
       "  </thead>\n",
       "  <tbody>\n",
       "    <tr>\n",
       "      <th>0</th>\n",
       "      <td>2</td>\n",
       "      <td>2015-03-22 09:25:46</td>\n",
       "      <td>399</td>\n",
       "      <td>13682</td>\n",
       "      <td>1</td>\n",
       "      <td>0</td>\n",
       "      <td>0</td>\n",
       "    </tr>\n",
       "    <tr>\n",
       "      <th>1</th>\n",
       "      <td>2</td>\n",
       "      <td>2015-03-22 09:25:46</td>\n",
       "      <td>14</td>\n",
       "      <td>93957</td>\n",
       "      <td>1</td>\n",
       "      <td>0</td>\n",
       "      <td>0</td>\n",
       "    </tr>\n",
       "    <tr>\n",
       "      <th>2</th>\n",
       "      <td>2</td>\n",
       "      <td>2015-03-22 09:25:46</td>\n",
       "      <td>198</td>\n",
       "      <td>17707</td>\n",
       "      <td>2</td>\n",
       "      <td>1027</td>\n",
       "      <td>0</td>\n",
       "    </tr>\n",
       "  </tbody>\n",
       "</table>\n",
       "</div>"
      ],
      "text/plain": [
       "   user_id  order_completed_at  cart  cart_popular  cart_order_count  \\\n",
       "0        2 2015-03-22 09:25:46   399         13682                 1   \n",
       "1        2 2015-03-22 09:25:46    14         93957                 1   \n",
       "2        2 2015-03-22 09:25:46   198         17707                 2   \n",
       "\n",
       "   diff_order_date  target  \n",
       "0                0       0  \n",
       "1                0       0  \n",
       "2             1027       0  "
      ]
     },
     "execution_count": 139,
     "metadata": {},
     "output_type": "execute_result"
    }
   ],
   "source": [
    "features.head(3)"
   ]
  },
  {
   "cell_type": "code",
   "execution_count": 140,
   "id": "5a991074",
   "metadata": {},
   "outputs": [],
   "source": [
    "target=features['target'];\n",
    "features_2=features[[\"user_id\", \"cart\"]];"
   ]
  },
  {
   "cell_type": "code",
   "execution_count": 141,
   "id": "d6254d98",
   "metadata": {},
   "outputs": [
    {
     "data": {
      "application/vnd.microsoft.datawrangler.viewer.v0+json": {
       "columns": [
        {
         "name": "index",
         "rawType": "int64",
         "type": "integer"
        },
        {
         "name": "user_id",
         "rawType": "int64",
         "type": "integer"
        },
        {
         "name": "cart",
         "rawType": "int64",
         "type": "integer"
        }
       ],
       "ref": "831042e3-7856-4958-a212-5cc1d9a7a08b",
       "rows": [
        [
         "0",
         "2",
         "399"
        ],
        [
         "1",
         "2",
         "14"
        ],
        [
         "2",
         "2",
         "198"
        ]
       ],
       "shape": {
        "columns": 2,
        "rows": 3
       }
      },
      "text/html": [
       "<div>\n",
       "<style scoped>\n",
       "    .dataframe tbody tr th:only-of-type {\n",
       "        vertical-align: middle;\n",
       "    }\n",
       "\n",
       "    .dataframe tbody tr th {\n",
       "        vertical-align: top;\n",
       "    }\n",
       "\n",
       "    .dataframe thead th {\n",
       "        text-align: right;\n",
       "    }\n",
       "</style>\n",
       "<table border=\"1\" class=\"dataframe\">\n",
       "  <thead>\n",
       "    <tr style=\"text-align: right;\">\n",
       "      <th></th>\n",
       "      <th>user_id</th>\n",
       "      <th>cart</th>\n",
       "    </tr>\n",
       "  </thead>\n",
       "  <tbody>\n",
       "    <tr>\n",
       "      <th>0</th>\n",
       "      <td>2</td>\n",
       "      <td>399</td>\n",
       "    </tr>\n",
       "    <tr>\n",
       "      <th>1</th>\n",
       "      <td>2</td>\n",
       "      <td>14</td>\n",
       "    </tr>\n",
       "    <tr>\n",
       "      <th>2</th>\n",
       "      <td>2</td>\n",
       "      <td>198</td>\n",
       "    </tr>\n",
       "  </tbody>\n",
       "</table>\n",
       "</div>"
      ],
      "text/plain": [
       "   user_id  cart\n",
       "0        2   399\n",
       "1        2    14\n",
       "2        2   198"
      ]
     },
     "execution_count": 141,
     "metadata": {},
     "output_type": "execute_result"
    }
   ],
   "source": [
    "features_2.head(3)"
   ]
  },
  {
   "cell_type": "code",
   "execution_count": 142,
   "id": "2ba1245a",
   "metadata": {},
   "outputs": [],
   "source": [
    "from sklearn.model_selection import train_test_split"
   ]
  },
  {
   "cell_type": "code",
   "execution_count": 143,
   "id": "ce7dd9fc",
   "metadata": {},
   "outputs": [],
   "source": [
    "# Разделение user_id на train/valid\n",
    "X_train, X_test, y_train, y_test = train_test_split(\n",
    "    features_2, target,\n",
    "    test_size=0.2,\n",
    "    random_state=42,\n",
    ")"
   ]
  },
  {
   "cell_type": "code",
   "execution_count": 144,
   "id": "158e20d5",
   "metadata": {},
   "outputs": [
    {
     "name": "stdout",
     "output_type": "stream",
     "text": [
      "y_train.shape =  (2498451,)\n",
      "X_train.shape =  (2498451, 2)\n",
      "y_test.shape =  (624613,)\n",
      "X_test.shape =  (624613, 2)\n"
     ]
    }
   ],
   "source": [
    "print(\"y_train.shape = \", y_train.shape)\n",
    "print(\"X_train.shape = \", X_train.shape)\n",
    "\n",
    "print(\"y_test.shape = \", y_test.shape)\n",
    "print(\"X_test.shape = \", X_test.shape)"
   ]
  },
  {
   "cell_type": "markdown",
   "id": "07df3357",
   "metadata": {},
   "source": [
    "#### Получим опорное решение."
   ]
  },
  {
   "cell_type": "code",
   "execution_count": null,
   "id": "79470d23",
   "metadata": {},
   "outputs": [
    {
     "name": "stderr",
     "output_type": "stream",
     "text": [
      "[Parallel(n_jobs=-1)]: Using backend ThreadingBackend with 12 concurrent workers.\n",
      "[Parallel(n_jobs=-1)]: Done  26 tasks      | elapsed:   32.1s\n",
      "[Parallel(n_jobs=-1)]: Done 176 tasks      | elapsed:  2.7min\n"
     ]
    },
    {
     "name": "stdout",
     "output_type": "stream",
     "text": [
      "CPU times: total: 28min 39s\n",
      "Wall time: 3min 3s\n"
     ]
    },
    {
     "name": "stderr",
     "output_type": "stream",
     "text": [
      "[Parallel(n_jobs=-1)]: Done 200 out of 200 | elapsed:  3.0min finished\n"
     ]
    },
    {
     "data": {
      "text/html": [
       "<style>#sk-container-id-3 {\n",
       "  /* Definition of color scheme common for light and dark mode */\n",
       "  --sklearn-color-text: black;\n",
       "  --sklearn-color-line: gray;\n",
       "  /* Definition of color scheme for unfitted estimators */\n",
       "  --sklearn-color-unfitted-level-0: #fff5e6;\n",
       "  --sklearn-color-unfitted-level-1: #f6e4d2;\n",
       "  --sklearn-color-unfitted-level-2: #ffe0b3;\n",
       "  --sklearn-color-unfitted-level-3: chocolate;\n",
       "  /* Definition of color scheme for fitted estimators */\n",
       "  --sklearn-color-fitted-level-0: #f0f8ff;\n",
       "  --sklearn-color-fitted-level-1: #d4ebff;\n",
       "  --sklearn-color-fitted-level-2: #b3dbfd;\n",
       "  --sklearn-color-fitted-level-3: cornflowerblue;\n",
       "\n",
       "  /* Specific color for light theme */\n",
       "  --sklearn-color-text-on-default-background: var(--sg-text-color, var(--theme-code-foreground, var(--jp-content-font-color1, black)));\n",
       "  --sklearn-color-background: var(--sg-background-color, var(--theme-background, var(--jp-layout-color0, white)));\n",
       "  --sklearn-color-border-box: var(--sg-text-color, var(--theme-code-foreground, var(--jp-content-font-color1, black)));\n",
       "  --sklearn-color-icon: #696969;\n",
       "\n",
       "  @media (prefers-color-scheme: dark) {\n",
       "    /* Redefinition of color scheme for dark theme */\n",
       "    --sklearn-color-text-on-default-background: var(--sg-text-color, var(--theme-code-foreground, var(--jp-content-font-color1, white)));\n",
       "    --sklearn-color-background: var(--sg-background-color, var(--theme-background, var(--jp-layout-color0, #111)));\n",
       "    --sklearn-color-border-box: var(--sg-text-color, var(--theme-code-foreground, var(--jp-content-font-color1, white)));\n",
       "    --sklearn-color-icon: #878787;\n",
       "  }\n",
       "}\n",
       "\n",
       "#sk-container-id-3 {\n",
       "  color: var(--sklearn-color-text);\n",
       "}\n",
       "\n",
       "#sk-container-id-3 pre {\n",
       "  padding: 0;\n",
       "}\n",
       "\n",
       "#sk-container-id-3 input.sk-hidden--visually {\n",
       "  border: 0;\n",
       "  clip: rect(1px 1px 1px 1px);\n",
       "  clip: rect(1px, 1px, 1px, 1px);\n",
       "  height: 1px;\n",
       "  margin: -1px;\n",
       "  overflow: hidden;\n",
       "  padding: 0;\n",
       "  position: absolute;\n",
       "  width: 1px;\n",
       "}\n",
       "\n",
       "#sk-container-id-3 div.sk-dashed-wrapped {\n",
       "  border: 1px dashed var(--sklearn-color-line);\n",
       "  margin: 0 0.4em 0.5em 0.4em;\n",
       "  box-sizing: border-box;\n",
       "  padding-bottom: 0.4em;\n",
       "  background-color: var(--sklearn-color-background);\n",
       "}\n",
       "\n",
       "#sk-container-id-3 div.sk-container {\n",
       "  /* jupyter's `normalize.less` sets `[hidden] { display: none; }`\n",
       "     but bootstrap.min.css set `[hidden] { display: none !important; }`\n",
       "     so we also need the `!important` here to be able to override the\n",
       "     default hidden behavior on the sphinx rendered scikit-learn.org.\n",
       "     See: https://github.com/scikit-learn/scikit-learn/issues/21755 */\n",
       "  display: inline-block !important;\n",
       "  position: relative;\n",
       "}\n",
       "\n",
       "#sk-container-id-3 div.sk-text-repr-fallback {\n",
       "  display: none;\n",
       "}\n",
       "\n",
       "div.sk-parallel-item,\n",
       "div.sk-serial,\n",
       "div.sk-item {\n",
       "  /* draw centered vertical line to link estimators */\n",
       "  background-image: linear-gradient(var(--sklearn-color-text-on-default-background), var(--sklearn-color-text-on-default-background));\n",
       "  background-size: 2px 100%;\n",
       "  background-repeat: no-repeat;\n",
       "  background-position: center center;\n",
       "}\n",
       "\n",
       "/* Parallel-specific style estimator block */\n",
       "\n",
       "#sk-container-id-3 div.sk-parallel-item::after {\n",
       "  content: \"\";\n",
       "  width: 100%;\n",
       "  border-bottom: 2px solid var(--sklearn-color-text-on-default-background);\n",
       "  flex-grow: 1;\n",
       "}\n",
       "\n",
       "#sk-container-id-3 div.sk-parallel {\n",
       "  display: flex;\n",
       "  align-items: stretch;\n",
       "  justify-content: center;\n",
       "  background-color: var(--sklearn-color-background);\n",
       "  position: relative;\n",
       "}\n",
       "\n",
       "#sk-container-id-3 div.sk-parallel-item {\n",
       "  display: flex;\n",
       "  flex-direction: column;\n",
       "}\n",
       "\n",
       "#sk-container-id-3 div.sk-parallel-item:first-child::after {\n",
       "  align-self: flex-end;\n",
       "  width: 50%;\n",
       "}\n",
       "\n",
       "#sk-container-id-3 div.sk-parallel-item:last-child::after {\n",
       "  align-self: flex-start;\n",
       "  width: 50%;\n",
       "}\n",
       "\n",
       "#sk-container-id-3 div.sk-parallel-item:only-child::after {\n",
       "  width: 0;\n",
       "}\n",
       "\n",
       "/* Serial-specific style estimator block */\n",
       "\n",
       "#sk-container-id-3 div.sk-serial {\n",
       "  display: flex;\n",
       "  flex-direction: column;\n",
       "  align-items: center;\n",
       "  background-color: var(--sklearn-color-background);\n",
       "  padding-right: 1em;\n",
       "  padding-left: 1em;\n",
       "}\n",
       "\n",
       "\n",
       "/* Toggleable style: style used for estimator/Pipeline/ColumnTransformer box that is\n",
       "clickable and can be expanded/collapsed.\n",
       "- Pipeline and ColumnTransformer use this feature and define the default style\n",
       "- Estimators will overwrite some part of the style using the `sk-estimator` class\n",
       "*/\n",
       "\n",
       "/* Pipeline and ColumnTransformer style (default) */\n",
       "\n",
       "#sk-container-id-3 div.sk-toggleable {\n",
       "  /* Default theme specific background. It is overwritten whether we have a\n",
       "  specific estimator or a Pipeline/ColumnTransformer */\n",
       "  background-color: var(--sklearn-color-background);\n",
       "}\n",
       "\n",
       "/* Toggleable label */\n",
       "#sk-container-id-3 label.sk-toggleable__label {\n",
       "  cursor: pointer;\n",
       "  display: block;\n",
       "  width: 100%;\n",
       "  margin-bottom: 0;\n",
       "  padding: 0.5em;\n",
       "  box-sizing: border-box;\n",
       "  text-align: center;\n",
       "}\n",
       "\n",
       "#sk-container-id-3 label.sk-toggleable__label-arrow:before {\n",
       "  /* Arrow on the left of the label */\n",
       "  content: \"▸\";\n",
       "  float: left;\n",
       "  margin-right: 0.25em;\n",
       "  color: var(--sklearn-color-icon);\n",
       "}\n",
       "\n",
       "#sk-container-id-3 label.sk-toggleable__label-arrow:hover:before {\n",
       "  color: var(--sklearn-color-text);\n",
       "}\n",
       "\n",
       "/* Toggleable content - dropdown */\n",
       "\n",
       "#sk-container-id-3 div.sk-toggleable__content {\n",
       "  max-height: 0;\n",
       "  max-width: 0;\n",
       "  overflow: hidden;\n",
       "  text-align: left;\n",
       "  /* unfitted */\n",
       "  background-color: var(--sklearn-color-unfitted-level-0);\n",
       "}\n",
       "\n",
       "#sk-container-id-3 div.sk-toggleable__content.fitted {\n",
       "  /* fitted */\n",
       "  background-color: var(--sklearn-color-fitted-level-0);\n",
       "}\n",
       "\n",
       "#sk-container-id-3 div.sk-toggleable__content pre {\n",
       "  margin: 0.2em;\n",
       "  border-radius: 0.25em;\n",
       "  color: var(--sklearn-color-text);\n",
       "  /* unfitted */\n",
       "  background-color: var(--sklearn-color-unfitted-level-0);\n",
       "}\n",
       "\n",
       "#sk-container-id-3 div.sk-toggleable__content.fitted pre {\n",
       "  /* unfitted */\n",
       "  background-color: var(--sklearn-color-fitted-level-0);\n",
       "}\n",
       "\n",
       "#sk-container-id-3 input.sk-toggleable__control:checked~div.sk-toggleable__content {\n",
       "  /* Expand drop-down */\n",
       "  max-height: 200px;\n",
       "  max-width: 100%;\n",
       "  overflow: auto;\n",
       "}\n",
       "\n",
       "#sk-container-id-3 input.sk-toggleable__control:checked~label.sk-toggleable__label-arrow:before {\n",
       "  content: \"▾\";\n",
       "}\n",
       "\n",
       "/* Pipeline/ColumnTransformer-specific style */\n",
       "\n",
       "#sk-container-id-3 div.sk-label input.sk-toggleable__control:checked~label.sk-toggleable__label {\n",
       "  color: var(--sklearn-color-text);\n",
       "  background-color: var(--sklearn-color-unfitted-level-2);\n",
       "}\n",
       "\n",
       "#sk-container-id-3 div.sk-label.fitted input.sk-toggleable__control:checked~label.sk-toggleable__label {\n",
       "  background-color: var(--sklearn-color-fitted-level-2);\n",
       "}\n",
       "\n",
       "/* Estimator-specific style */\n",
       "\n",
       "/* Colorize estimator box */\n",
       "#sk-container-id-3 div.sk-estimator input.sk-toggleable__control:checked~label.sk-toggleable__label {\n",
       "  /* unfitted */\n",
       "  background-color: var(--sklearn-color-unfitted-level-2);\n",
       "}\n",
       "\n",
       "#sk-container-id-3 div.sk-estimator.fitted input.sk-toggleable__control:checked~label.sk-toggleable__label {\n",
       "  /* fitted */\n",
       "  background-color: var(--sklearn-color-fitted-level-2);\n",
       "}\n",
       "\n",
       "#sk-container-id-3 div.sk-label label.sk-toggleable__label,\n",
       "#sk-container-id-3 div.sk-label label {\n",
       "  /* The background is the default theme color */\n",
       "  color: var(--sklearn-color-text-on-default-background);\n",
       "}\n",
       "\n",
       "/* On hover, darken the color of the background */\n",
       "#sk-container-id-3 div.sk-label:hover label.sk-toggleable__label {\n",
       "  color: var(--sklearn-color-text);\n",
       "  background-color: var(--sklearn-color-unfitted-level-2);\n",
       "}\n",
       "\n",
       "/* Label box, darken color on hover, fitted */\n",
       "#sk-container-id-3 div.sk-label.fitted:hover label.sk-toggleable__label.fitted {\n",
       "  color: var(--sklearn-color-text);\n",
       "  background-color: var(--sklearn-color-fitted-level-2);\n",
       "}\n",
       "\n",
       "/* Estimator label */\n",
       "\n",
       "#sk-container-id-3 div.sk-label label {\n",
       "  font-family: monospace;\n",
       "  font-weight: bold;\n",
       "  display: inline-block;\n",
       "  line-height: 1.2em;\n",
       "}\n",
       "\n",
       "#sk-container-id-3 div.sk-label-container {\n",
       "  text-align: center;\n",
       "}\n",
       "\n",
       "/* Estimator-specific */\n",
       "#sk-container-id-3 div.sk-estimator {\n",
       "  font-family: monospace;\n",
       "  border: 1px dotted var(--sklearn-color-border-box);\n",
       "  border-radius: 0.25em;\n",
       "  box-sizing: border-box;\n",
       "  margin-bottom: 0.5em;\n",
       "  /* unfitted */\n",
       "  background-color: var(--sklearn-color-unfitted-level-0);\n",
       "}\n",
       "\n",
       "#sk-container-id-3 div.sk-estimator.fitted {\n",
       "  /* fitted */\n",
       "  background-color: var(--sklearn-color-fitted-level-0);\n",
       "}\n",
       "\n",
       "/* on hover */\n",
       "#sk-container-id-3 div.sk-estimator:hover {\n",
       "  /* unfitted */\n",
       "  background-color: var(--sklearn-color-unfitted-level-2);\n",
       "}\n",
       "\n",
       "#sk-container-id-3 div.sk-estimator.fitted:hover {\n",
       "  /* fitted */\n",
       "  background-color: var(--sklearn-color-fitted-level-2);\n",
       "}\n",
       "\n",
       "/* Specification for estimator info (e.g. \"i\" and \"?\") */\n",
       "\n",
       "/* Common style for \"i\" and \"?\" */\n",
       "\n",
       ".sk-estimator-doc-link,\n",
       "a:link.sk-estimator-doc-link,\n",
       "a:visited.sk-estimator-doc-link {\n",
       "  float: right;\n",
       "  font-size: smaller;\n",
       "  line-height: 1em;\n",
       "  font-family: monospace;\n",
       "  background-color: var(--sklearn-color-background);\n",
       "  border-radius: 1em;\n",
       "  height: 1em;\n",
       "  width: 1em;\n",
       "  text-decoration: none !important;\n",
       "  margin-left: 1ex;\n",
       "  /* unfitted */\n",
       "  border: var(--sklearn-color-unfitted-level-1) 1pt solid;\n",
       "  color: var(--sklearn-color-unfitted-level-1);\n",
       "}\n",
       "\n",
       ".sk-estimator-doc-link.fitted,\n",
       "a:link.sk-estimator-doc-link.fitted,\n",
       "a:visited.sk-estimator-doc-link.fitted {\n",
       "  /* fitted */\n",
       "  border: var(--sklearn-color-fitted-level-1) 1pt solid;\n",
       "  color: var(--sklearn-color-fitted-level-1);\n",
       "}\n",
       "\n",
       "/* On hover */\n",
       "div.sk-estimator:hover .sk-estimator-doc-link:hover,\n",
       ".sk-estimator-doc-link:hover,\n",
       "div.sk-label-container:hover .sk-estimator-doc-link:hover,\n",
       ".sk-estimator-doc-link:hover {\n",
       "  /* unfitted */\n",
       "  background-color: var(--sklearn-color-unfitted-level-3);\n",
       "  color: var(--sklearn-color-background);\n",
       "  text-decoration: none;\n",
       "}\n",
       "\n",
       "div.sk-estimator.fitted:hover .sk-estimator-doc-link.fitted:hover,\n",
       ".sk-estimator-doc-link.fitted:hover,\n",
       "div.sk-label-container:hover .sk-estimator-doc-link.fitted:hover,\n",
       ".sk-estimator-doc-link.fitted:hover {\n",
       "  /* fitted */\n",
       "  background-color: var(--sklearn-color-fitted-level-3);\n",
       "  color: var(--sklearn-color-background);\n",
       "  text-decoration: none;\n",
       "}\n",
       "\n",
       "/* Span, style for the box shown on hovering the info icon */\n",
       ".sk-estimator-doc-link span {\n",
       "  display: none;\n",
       "  z-index: 9999;\n",
       "  position: relative;\n",
       "  font-weight: normal;\n",
       "  right: .2ex;\n",
       "  padding: .5ex;\n",
       "  margin: .5ex;\n",
       "  width: min-content;\n",
       "  min-width: 20ex;\n",
       "  max-width: 50ex;\n",
       "  color: var(--sklearn-color-text);\n",
       "  box-shadow: 2pt 2pt 4pt #999;\n",
       "  /* unfitted */\n",
       "  background: var(--sklearn-color-unfitted-level-0);\n",
       "  border: .5pt solid var(--sklearn-color-unfitted-level-3);\n",
       "}\n",
       "\n",
       ".sk-estimator-doc-link.fitted span {\n",
       "  /* fitted */\n",
       "  background: var(--sklearn-color-fitted-level-0);\n",
       "  border: var(--sklearn-color-fitted-level-3);\n",
       "}\n",
       "\n",
       ".sk-estimator-doc-link:hover span {\n",
       "  display: block;\n",
       "}\n",
       "\n",
       "/* \"?\"-specific style due to the `<a>` HTML tag */\n",
       "\n",
       "#sk-container-id-3 a.estimator_doc_link {\n",
       "  float: right;\n",
       "  font-size: 1rem;\n",
       "  line-height: 1em;\n",
       "  font-family: monospace;\n",
       "  background-color: var(--sklearn-color-background);\n",
       "  border-radius: 1rem;\n",
       "  height: 1rem;\n",
       "  width: 1rem;\n",
       "  text-decoration: none;\n",
       "  /* unfitted */\n",
       "  color: var(--sklearn-color-unfitted-level-1);\n",
       "  border: var(--sklearn-color-unfitted-level-1) 1pt solid;\n",
       "}\n",
       "\n",
       "#sk-container-id-3 a.estimator_doc_link.fitted {\n",
       "  /* fitted */\n",
       "  border: var(--sklearn-color-fitted-level-1) 1pt solid;\n",
       "  color: var(--sklearn-color-fitted-level-1);\n",
       "}\n",
       "\n",
       "/* On hover */\n",
       "#sk-container-id-3 a.estimator_doc_link:hover {\n",
       "  /* unfitted */\n",
       "  background-color: var(--sklearn-color-unfitted-level-3);\n",
       "  color: var(--sklearn-color-background);\n",
       "  text-decoration: none;\n",
       "}\n",
       "\n",
       "#sk-container-id-3 a.estimator_doc_link.fitted:hover {\n",
       "  /* fitted */\n",
       "  background-color: var(--sklearn-color-fitted-level-3);\n",
       "}\n",
       "</style><div id=\"sk-container-id-3\" class=\"sk-top-container\"><div class=\"sk-text-repr-fallback\"><pre>RandomForestClassifier(n_estimators=200, n_jobs=-1, random_state=3,\n",
       "                       verbose=True)</pre><b>In a Jupyter environment, please rerun this cell to show the HTML representation or trust the notebook. <br />On GitHub, the HTML representation is unable to render, please try loading this page with nbviewer.org.</b></div><div class=\"sk-container\" hidden><div class=\"sk-item\"><div class=\"sk-estimator fitted sk-toggleable\"><input class=\"sk-toggleable__control sk-hidden--visually\" id=\"sk-estimator-id-3\" type=\"checkbox\" checked><label for=\"sk-estimator-id-3\" class=\"sk-toggleable__label fitted sk-toggleable__label-arrow fitted\">&nbsp;&nbsp;RandomForestClassifier<a class=\"sk-estimator-doc-link fitted\" rel=\"noreferrer\" target=\"_blank\" href=\"https://scikit-learn.org/1.5/modules/generated/sklearn.ensemble.RandomForestClassifier.html\">?<span>Documentation for RandomForestClassifier</span></a><span class=\"sk-estimator-doc-link fitted\">i<span>Fitted</span></span></label><div class=\"sk-toggleable__content fitted\"><pre>RandomForestClassifier(n_estimators=200, n_jobs=-1, random_state=3,\n",
       "                       verbose=True)</pre></div> </div></div></div></div>"
      ],
      "text/plain": [
       "RandomForestClassifier(n_estimators=200, n_jobs=-1, random_state=3,\n",
       "                       verbose=True)"
      ]
     },
     "execution_count": 145,
     "metadata": {},
     "output_type": "execute_result"
    }
   ],
   "source": [
    "%%time\n",
    "\n",
    "from sklearn import ensemble\n",
    "import pickle\n",
    "\n",
    "model = (ensemble.RandomForestClassifier(n_estimators=100, random_state=3,verbose=True,\\\n",
    "                                         n_jobs=-1,oob_score=False,max_features='sqrt'));\n",
    "model.fit(X_train, y_train)\n",
    "\n",
    "#filename = 'model_one'+strftime(\"%H-%M-%S\")+'.sav'\n",
    "#pickle.dump(model, open(filename, 'wb'))"
   ]
  },
  {
   "cell_type": "code",
   "execution_count": 146,
   "id": "cac69ccb",
   "metadata": {},
   "outputs": [
    {
     "name": "stderr",
     "output_type": "stream",
     "text": [
      "[Parallel(n_jobs=12)]: Using backend ThreadingBackend with 12 concurrent workers.\n",
      "[Parallel(n_jobs=12)]: Done  26 tasks      | elapsed:    2.3s\n",
      "[Parallel(n_jobs=12)]: Done 176 tasks      | elapsed:   12.8s\n"
     ]
    },
    {
     "name": "stdout",
     "output_type": "stream",
     "text": [
      "Accuracy: 0.95\n"
     ]
    },
    {
     "name": "stderr",
     "output_type": "stream",
     "text": [
      "[Parallel(n_jobs=12)]: Done 200 out of 200 | elapsed:   14.2s finished\n"
     ]
    }
   ],
   "source": [
    "score = model.score(X_test, y_test)\n",
    "print(f\"Accuracy: {score:.2f}\")"
   ]
  },
  {
   "cell_type": "code",
   "execution_count": null,
   "id": "9c89579a",
   "metadata": {},
   "outputs": [],
   "source": [
    "# Переберем несколько моделей.\n",
    "\n",
    "#Пуская \n",
    "#n_estimators_list = [10, 50, 100, 200, 300]\n",
    "#max_depth_list = [None, 5, 10, 15]\n",
    "#results = []\n",
    "\n",
    "# Перебираем модели с tqdm\n",
    "#for n_estimators in tqdm(n_estimators_list, desc=\"Number of Trees\"):\n",
    " #   for max_depth in tqdm(max_depth_list, desc=\"Max Depth\", leave=False):\n",
    "  #      model = ensemble.RandomForestClassifier(\n",
    "   #         n_estimators=n_estimators,\n",
    "    #        max_depth=max_depth,\n",
    "     #       random_state=42\n",
    "      #  )\n",
    "       # model.fit(X_train, y_train)\n",
    "        #score = model.score(X_test, y_test)\n",
    "        #results.append({\n",
    "         #   'n_estimators': n_estimators,\n",
    "          #  'max_depth': max_depth,\n",
    "           # 'accuracy': score\n",
    "        #})\n",
    "\n",
    "# Выводим результаты\n",
    "#for res in results:\n",
    " #   print(f\"Trees: {res['n_estimators']}, Depth: {res['max_depth']}, Accuracy: {res['accuracy']:.4f}\")"
   ]
  },
  {
   "cell_type": "markdown",
   "id": "2c086434",
   "metadata": {},
   "source": [
    "- Trees: 10, Depth: None, Accuracy: 0.9340\n",
    "- Trees: 10, Depth: 5, Accuracy: 0.7168\n",
    "- Trees: 10, Depth: 10, Accuracy: 0.7497\n",
    "- Trees: 10, Depth: 15, Accuracy: 0.7723\n",
    "- Trees: 50, Depth: None, Accuracy: 0.9425\n",
    "- Trees: 50, Depth: 5, Accuracy: 0.7189\n",
    "- Trees: 50, Depth: 10, Accuracy: 0.7498\n",
    "- Trees: 50, Depth: 15, Accuracy: 0.7726\n",
    "- Trees: 100, Depth: None, Accuracy: 0.9433\n",
    "- Trees: 100, Depth: 5, Accuracy: 0.7189\n",
    "- Trees: 100, Depth: 10, Accuracy: 0.7499\n",
    "- Trees: 100, Depth: 15, Accuracy: 0.7729\n",
    "- Trees: 200, Depth: None, Accuracy: 0.9433\n",
    "- Trees: 200, Depth: 5, Accuracy: 0.7190\n",
    "- Trees: 200, Depth: 10, Accuracy: 0.7499\n",
    "- Trees: 200, Depth: 15, Accuracy: 0.7728\n",
    "- Trees: 300, Depth: None, Accuracy: 0.9433\n",
    "- Trees: 300, Depth: 5, Accuracy: 0.7179\n",
    "- Trees: 300, Depth: 10, Accuracy: 0.7495\n",
    "- Trees: 300, Depth: 15, Accuracy: 0.7727"
   ]
  },
  {
   "cell_type": "markdown",
   "id": "6c337032",
   "metadata": {},
   "source": [
    "Подбирем параметры \"получше\".Внимание, это самостоятельная работа!!!\n",
    "- Оптимальный баланс между скоростью и качеством — **RandomizedSearchCV**. Он проверяет случайные комбинации параметров, а не все возможные (как GridSearchCV).\n",
    "- Использование HalvingRandomSearchCV (еще быстрее!), но это если scikit-learn версии 0.24+.**HalvingRandomSearchCV** — отсеивает плохие комбинации на ранних этапах, экономя время."
   ]
  },
  {
   "cell_type": "code",
   "execution_count": 148,
   "id": "f3f5910b",
   "metadata": {},
   "outputs": [
    {
     "data": {
      "text/plain": [
       "'from sklearn.ensemble import RandomForestClassifier\\nfrom sklearn.model_selection import RandomizedSearchCV\\nfrom scipy.stats import randint\\n\\n# Параметры для поиска\\nparam_dist = {\\n    \\'n_estimators\\': randint(20, 300),       # Количество деревьев\\n    \\'max_depth\\': randint(2, 15),            # Глубина дерева\\n    \\'min_samples_split\\': randint(2, 10),    # Минимальное число образцов для разделения\\n    \\'min_samples_leaf\\': randint(1, 6),      # Минимальное число образцов в листе\\n    \\'max_features\\': [\\'sqrt\\', \\'log2\\', None]  # Количество признаков для разделения\\n}\\n\\nmodel = RandomForestClassifier(random_state=3, n_jobs=-1)\\n\\n# Запуск RandomizedSearchCV\\nsearch = RandomizedSearchCV(\\n    model,\\n    param_distributions=param_dist,\\n    n_iter=30,  # Количество случайных комбинаций (чем больше, тем дольше)\\n    cv=3,       # Количество фолдов кросс-валидации\\n    scoring=\\'accuracy\\',\\n    random_state=3,\\n    n_jobs=-1\\n)\\n\\nsearch.fit(X_train, y_train)\\n\\n# Лучшие параметры\\nprint(\"Лучшие параметры:\", search.best_params_)\\nprint(\"Лучшая точность:\", search.best_score_)\\n'"
      ]
     },
     "execution_count": 148,
     "metadata": {},
     "output_type": "execute_result"
    }
   ],
   "source": [
    "# Вариант с RandomizedSearchCV\n",
    "\n",
    "'''from sklearn.ensemble import RandomForestClassifier\n",
    "from sklearn.model_selection import RandomizedSearchCV\n",
    "from scipy.stats import randint\n",
    "\n",
    "# Параметры для поиска\n",
    "param_dist = {\n",
    "    'n_estimators': randint(20, 300),       # Количество деревьев\n",
    "    'max_depth': randint(2, 15),            # Глубина дерева\n",
    "    'min_samples_split': randint(2, 10),    # Минимальное число образцов для разделения\n",
    "    'min_samples_leaf': randint(1, 6),      # Минимальное число образцов в листе\n",
    "    'max_features': ['sqrt', 'log2', None]  # Количество признаков для разделения\n",
    "}\n",
    "\n",
    "model = RandomForestClassifier(random_state=3, n_jobs=-1)\n",
    "\n",
    "# Запуск RandomizedSearchCV\n",
    "search = RandomizedSearchCV(\n",
    "    model,\n",
    "    param_distributions=param_dist,\n",
    "    n_iter=30,  # Количество случайных комбинаций (чем больше, тем дольше)\n",
    "    cv=3,       # Количество фолдов кросс-валидации\n",
    "    scoring='accuracy',\n",
    "    random_state=3,\n",
    "    n_jobs=-1\n",
    ")\n",
    "\n",
    "search.fit(X_train, y_train)\n",
    "\n",
    "# Лучшие параметры\n",
    "print(\"Лучшие параметры:\", search.best_params_)\n",
    "print(\"Лучшая точность:\", search.best_score_)\n",
    "'''"
   ]
  },
  {
   "cell_type": "markdown",
   "id": "fded4525",
   "metadata": {},
   "source": [
    "### Сформируем predict и submisson"
   ]
  },
  {
   "cell_type": "code",
   "execution_count": 150,
   "id": "10df181c",
   "metadata": {},
   "outputs": [
    {
     "name": "stderr",
     "output_type": "stream",
     "text": [
      "[Parallel(n_jobs=12)]: Using backend ThreadingBackend with 12 concurrent workers.\n",
      "[Parallel(n_jobs=12)]: Done  26 tasks      | elapsed:    0.3s\n",
      "[Parallel(n_jobs=12)]: Done 176 tasks      | elapsed:    2.2s\n",
      "[Parallel(n_jobs=12)]: Done 200 out of 200 | elapsed:    2.5s finished\n"
     ]
    },
    {
     "name": "stdout",
     "output_type": "stream",
     "text": [
      "Your submission was successfully saved!\n"
     ]
    }
   ],
   "source": [
    "from time import gmtime, strftime\n",
    "tm=strftime(\"%H-%M-%S\");\n",
    "\n",
    "sab=model.predict(sample);\n",
    "\n",
    "sabm=pd.DataFrame();\n",
    "sabm[\"target\"]=sab;\n",
    "\n",
    "s=sample[\"user_id\"]+\";\"+sample[\"cart\"];\n",
    "s=pd.DataFrame(s)\n",
    "\n",
    "s.columns=[\"id\"];\n",
    "s[\"target\"]=sabm;\n",
    "\n",
    "fil=\"my_submission \"+str(tm)+str('.csv');\n",
    "s.to_csv(str(fil), index=False)# Записываем результат в файл\n",
    "print(\"Your submission was successfully saved!\")# Сообщение, если все хорошо"
   ]
  },
  {
   "cell_type": "code",
   "execution_count": null,
   "id": "941d4e37",
   "metadata": {},
   "outputs": [],
   "source": []
  }
 ],
 "metadata": {
  "kernelspec": {
   "display_name": "tf",
   "language": "python",
   "name": "python3"
  },
  "language_info": {
   "codemirror_mode": {
    "name": "ipython",
    "version": 3
   },
   "file_extension": ".py",
   "mimetype": "text/x-python",
   "name": "python",
   "nbconvert_exporter": "python",
   "pygments_lexer": "ipython3",
   "version": "3.9.20"
  }
 },
 "nbformat": 4,
 "nbformat_minor": 5
}
