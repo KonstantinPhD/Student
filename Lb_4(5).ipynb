{
 "cells": [
  {
   "cell_type": "markdown",
   "metadata": {},
   "source": [
    "# Расчетно-графическая работа\n",
    "# Моделирование двигателя постоянного тока\n",
    "\n",
    "### Цель работы: приобретение практических навыков в области построения математических моделей и реализации процессов моделирования электрических машин постоянного тока, используя современное ППО."
   ]
  },
  {
   "cell_type": "markdown",
   "metadata": {},
   "source": [
    "## 1. Теоретическое описание объекта"
   ]
  },
  {
   "cell_type": "markdown",
   "metadata": {},
   "source": [
    "\n",
    "Уравнение электрической цепи двигателя постоянного тока описывается известным уравнением, которое строится на основе закона Кирхгофа и имеет следующий вид: \n",
    "\n",
    "$$\n",
    "                                            U(t)= E(t) + IR + L \\frac{dI}{dt}.   \\qquad  \\qquad \\qquad  \\qquad\\qquad\\qquad (1)\n",
    "$$\n",
    "\n",
    "\n",
    "где  $E = \\omega\\cdot Km$ ¬ противо-ЭДС, $\\omega $ ¬ угловая скорость вала двигателя, $Km$ - электромагнитный коэффициент, который можно считать равый коэфициенту двигателя.\n",
    "\n",
    "\n",
    "Связь крутящего мСвязь крутящего момента, развиваемого двигателем с нагрузкой и ускорением ротора двигателя можно описать,\n",
    "используя дифференциальное уравнение вращательного движения: омента, развиваемого двигателем с нагрузкой и ускорением ротора двигателя можно описать, используя дифференциальное уравнение вращательного движения:\n",
    "$$\n",
    "        J\\frac{d\\omega }{dt} = Mk - Mc.  \\qquad  \\qquad \\qquad  \\qquad\\qquad\\qquad \\qquad (2)\n",
    "$$\n",
    "\n",
    "где $Mk = Km\\cdot\\omega $ - крутящий момент на валу двигателя, $Mc = f\\cdot\\omega $ - момент сопротивления движению, $f$ - коэффициент вязкостного трения, $J$ - момент инерции."
   ]
  },
  {
   "cell_type": "markdown",
   "metadata": {},
   "source": [
    "С целью моделирования процесса изменения угловой скорости $\\omega(t)$ ротора двигателя в зависимости от питающего напряжения $U(t)$ перепишим уравнения (1) и (2) в виде последовательно соединенных передаточных функций.\n",
    "\n",
    "Будем считать, что уравнение (1) является преобразователем напряжения в силу тока, тогда передаточная функция, описывающая данное преобраование примет вид:\n",
    "$$\n",
    "W1 =  \\frac{1}{(Lp + R)}, \\qquad  \\qquad \\qquad  \\qquad\\qquad\\qquad \\qquad  \\qquad(3)\n",
    "$$\n",
    "где $p$ - оператор дифференцирования Лапласа ($p= \\frac{d}{dt}$)\n",
    "\n",
    "Аналогичным образом представим передаточную функцию, преобразующую силу тока в обмотках якоря (ротора) в крутящий момент развиваемый двигателем:\n",
    "\n",
    "$$\n",
    "W2 =  \\frac{1}{(Jp + f)}, \\qquad  \\qquad \\qquad  \\qquad\\qquad\\qquad \\qquad  \\qquad(4)\n",
    "$$\n",
    "\n",
    "Последовательное соединение передаточных функций w1 и w2 предсавлено на рис. ниже.\n",
    "![1](img/1.png)\n",
    "\n",
    "\n",
    "#### Пояснения к формуле (3).\n",
    "\n",
    "Уравнение (1) можно записать в виде:\n",
    "\n",
    "$$\n",
    "                                            U(t)- E(t) = IR + L \\frac{dI}{dt}.   \n",
    "$$\n",
    "\n",
    "или с учетом обозначения $p= \\frac{d}{dt}$ \n",
    "\n",
    "$$\n",
    "                                            U(t)- E(t) = I(t)R + LI(t)p.  \n",
    "$$\n",
    "\n",
    "Или\n",
    "\n",
    "$$\n",
    "                                            U(t)- E(t) = I(t)(R + L\\cdot p).   \n",
    "$$\n",
    "\n",
    "Принимая во внимание, что передаточная функция - это отношение изображения по Лапласу выходного сигнала к входному, запишим:\n",
    "\n",
    "$$\n",
    "                                            W1 =\\frac{выход(р)}{вход(р)} =\\frac{I(t)}{U(t)- E(t)} = \\frac{1}{(R + L\\cdot p)}.   \n",
    "$$"
   ]
  },
  {
   "cell_type": "markdown",
   "metadata": {},
   "source": [
    "## 2.Реалиация процесса моделирования"
   ]
  },
  {
   "cell_type": "markdown",
   "metadata": {},
   "source": [
    "#### Подключение пакетов библиотек"
   ]
  },
  {
   "cell_type": "code",
   "execution_count": 1,
   "metadata": {},
   "outputs": [],
   "source": [
    "from control.matlab import *\n",
    "from numpy import *\n",
    "import matplotlib.pyplot as plt"
   ]
  },
  {
   "cell_type": "markdown",
   "metadata": {},
   "source": [
    "#### Ввод исходных данных"
   ]
  },
  {
   "cell_type": "code",
   "execution_count": 5,
   "metadata": {},
   "outputs": [],
   "source": [
    "L = 0.0128; # L - Индуктивность, R - сопротивление, Kf - коэффициент трения, J - момент инерции и т.д.\n",
    "R = 6;\n",
    "Kf = 0.02;\n",
    "J = 0.024;\n",
    "Un = 110;\n",
    "In = 3;\n",
    "n = 1000;\n",
    "w=pi*n/30;\n",
    "Km = w/(Un-In*R);\n",
    "Kd=Km;"
   ]
  },
  {
   "cell_type": "markdown",
   "metadata": {},
   "source": [
    "Задание передаточных функций"
   ]
  },
  {
   "cell_type": "code",
   "execution_count": 6,
   "metadata": {},
   "outputs": [
    {
     "name": "stdout",
     "output_type": "stream",
     "text": [
      "w1 =\n",
      "      1\n",
      "------------\n",
      "0.0128 s + 6\n",
      "\n",
      "_____________________\n",
      "w2 =\n",
      "      1\n",
      "--------------\n",
      "0.024 s + 0.02\n",
      "\n"
     ]
    }
   ],
   "source": [
    "w1=tf(1, [L, R]);\n",
    "\n",
    "print('w1 =' + str(w1) );\n",
    "print(\"_____________________\")\n",
    "\n",
    "w2=tf(1, [J, Kf]);\n",
    "\n",
    "print('w2 =' + str(w2));"
   ]
  },
  {
   "cell_type": "markdown",
   "metadata": {},
   "source": [
    "Зададим коэффициент обратной связи"
   ]
  },
  {
   "cell_type": "code",
   "execution_count": 7,
   "metadata": {},
   "outputs": [
    {
     "name": "stdout",
     "output_type": "stream",
     "text": [
      "Wkm = 1.1382582078223888\n"
     ]
    }
   ],
   "source": [
    "Wkm=tf(Km,[1]);\n",
    "print(\"Wkm = \"+ str(Km));"
   ]
  },
  {
   "cell_type": "markdown",
   "metadata": {},
   "source": [
    "#### Запишим обобщенную передаточную функцию."
   ]
  },
  {
   "cell_type": "code",
   "execution_count": 13,
   "metadata": {},
   "outputs": [],
   "source": [
    "W=w1*w2;"
   ]
  },
  {
   "cell_type": "code",
   "execution_count": 14,
   "metadata": {},
   "outputs": [
    {
     "data": {
      "text/latex": [
       "$$\\frac{1}{0.0003072 s^2 + 0.1443 s + 0.12}$$"
      ],
      "text/plain": [
       "\n",
       "               1\n",
       "-------------------------------\n",
       "0.0003072 s^2 + 0.1443 s + 0.12"
      ]
     },
     "execution_count": 14,
     "metadata": {},
     "output_type": "execute_result"
    }
   ],
   "source": [
    "W"
   ]
  },
  {
   "cell_type": "markdown",
   "metadata": {},
   "source": [
    "#### Запишим итоговую модель с обратной связью"
   ]
  },
  {
   "cell_type": "code",
   "execution_count": 15,
   "metadata": {},
   "outputs": [],
   "source": [
    "w = feedback(W, Wkm);"
   ]
  },
  {
   "cell_type": "code",
   "execution_count": 16,
   "metadata": {},
   "outputs": [
    {
     "data": {
      "text/latex": [
       "$$\\frac{1}{0.0003072 s^2 + 0.1443 s + 1.258}$$"
      ],
      "text/plain": [
       "\n",
       "                1\n",
       "--------------------------------\n",
       "0.0003072 s^2 + 0.1443 s + 1.258"
      ]
     },
     "execution_count": 16,
     "metadata": {},
     "output_type": "execute_result"
    }
   ],
   "source": [
    "w"
   ]
  },
  {
   "cell_type": "markdown",
   "metadata": {},
   "source": [
    "#### Оптередим переходую харакеристику двигателя, используя функцию step()"
   ]
  },
  {
   "cell_type": "code",
   "execution_count": 17,
   "metadata": {},
   "outputs": [
    {
     "data": {
      "image/png": "[encoded data removed]",
      "text/plain": [
       "<Figure size 432x288 with 1 Axes>"
      ]
     },
     "metadata": {
      "needs_background": "light"
     },
     "output_type": "display_data"
    }
   ],
   "source": [
    "y,x=step(w*110*9.55)\n",
    "plt.plot(x,y,\"b\")\n",
    "plt.title('Step Responsse ') \n",
    "plt.ylabel('w(t), об/мин')\n",
    "plt.xlabel('Time(sec)')\n",
    "plt.grid(True)\n",
    "plt.show()"
   ]
  },
  {
   "cell_type": "markdown",
   "metadata": {},
   "source": [
    "#### Построим импульсную характеристику"
   ]
  },
  {
   "cell_type": "code",
   "execution_count": 18,
   "metadata": {},
   "outputs": [],
   "source": [
    "y,x=impulse(w)"
   ]
  },
  {
   "cell_type": "code",
   "execution_count": 19,
   "metadata": {},
   "outputs": [
    {
     "data": {
      "image/png": "[encoded data removed]",
      "text/plain": [
       "<Figure size 432x288 with 1 Axes>"
      ]
     },
     "metadata": {
      "needs_background": "light"
     },
     "output_type": "display_data"
    }
   ],
   "source": [
    "plt.plot(x,y,\"r\")\n",
    "plt.title('impulse Responsse ') \n",
    "plt.ylabel('Amplitude')\n",
    "plt.xlabel('Time(sec)')\n",
    "plt.grid(True)\n",
    "plt.show()"
   ]
  },
  {
   "cell_type": "markdown",
   "metadata": {},
   "source": [
    "## Вывод.\n",
    "В ходе работы была построена математическая модель двигателя постоянного тока, используя методологию построения передаточных функций. Адекватность полученной модели проверена численным моделированием."
   ]
  },
  {
   "cell_type": "code",
   "execution_count": null,
   "metadata": {},
   "outputs": [],
   "source": []
  }
 ],
 "metadata": {
  "kernelspec": {
   "display_name": "Python 3",
   "language": "python",
   "name": "python3"
  },
  "language_info": {
   "codemirror_mode": {
    "name": "ipython",
    "version": 3
   },
   "file_extension": ".py",
   "mimetype": "text/x-python",
   "name": "python",
   "nbconvert_exporter": "python",
   "pygments_lexer": "ipython3",
   "version": "3.7.6"
  }
 },
 "nbformat": 4,
 "nbformat_minor": 4
}
